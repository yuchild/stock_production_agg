{
 "cells": [
  {
   "cell_type": "code",
   "execution_count": 1,
   "id": "bd47c8e5-091d-441c-8c69-a157d01f3d44",
   "metadata": {},
   "outputs": [],
   "source": [
    "# !pip install -r requirements.txt"
   ]
  },
  {
   "cell_type": "code",
   "execution_count": 2,
   "id": "c06de9be-0833-499e-859f-19c3f351be06",
   "metadata": {},
   "outputs": [],
   "source": [
    "import pandas as pd\n",
    "import numpy as np\n",
    "import yfinance as yf\n",
    "import matplotlib.pyplot as plt\n",
    "import logging\n",
    "import multiprocessing\n",
    "from datetime import datetime, timedelta\n",
    "\n",
    "from src import modules as f\n",
    "%load_ext autoreload\n",
    "%autoreload 2"
   ]
  },
  {
   "cell_type": "code",
   "execution_count": 27,
   "id": "f11530b7-8037-42cf-8d26-e3030b661ebd",
   "metadata": {},
   "outputs": [
    {
     "name": "stdout",
     "output_type": "stream",
     "text": [
      "Stock set: \n",
      "{'MA', 'VZ', 'XEL', 'GS', 'AJG', 'MRK', 'AMZN', '^VIX', 'GOOGL', 'NRG', 'TTWO', 'KO', 'SRE', 'IBM', 'CVX', 'COST', 'WSM', 'WMT', 'CEG', 'DUK', 'D', 'PSX', 'ATO', 'NFLX', 'TMUS', 'SLB', 'RCL', 'UNH', 'FWONK', 'DASH', 'PGR', 'ABT', 'GOOG', 'PG', 'EOG', 'EXC', 'NEE', 'LLY', 'TDG', 'SO', 'ABBV', 'VST', 'MDLZ', 'CMCSA', 'SW', 'BAC', 'ACN', 'WMB', 'XOM', 'BRK-B', 'APH', 'LNG', 'HD', 'DIS', 'ORCL', 'FCNCA', 'PEP', 'MSI', 'AAPL', 'CSCO', 'DECK', 'JNJ', 'T', 'ADBE', 'WELL', 'MO', 'JPM', 'TSLA', 'WFC', 'TMO', 'NVDA', 'CL', 'AVGO', 'EXE', 'PM', 'CRM', 'COP', 'KMI', 'TGT', 'TPR', 'ISRG', 'DKNG', 'AEP', 'META', 'MSFT', 'SPGI', 'AMGN', 'OKE', 'BSX', 'V', 'PLTR', 'AXP'}\n",
      "\n"
     ]
    }
   ],
   "source": [
    "# Download, load, extract, model...\n",
    "interval = '1d'\n",
    "stock_set = f.download_interval_process(interval, 1)\n",
    "print(f'Stock set: \\n{stock_set}\\n')"
   ]
  },
  {
   "cell_type": "code",
   "execution_count": 28,
   "id": "e07532a6-0b04-49bd-95f2-6061ee9e73e3",
   "metadata": {},
   "outputs": [
    {
     "ename": "KeyboardInterrupt",
     "evalue": "",
     "output_type": "error",
     "traceback": [
      "\u001b[0;31m---------------------------------------------------------------------------\u001b[0m",
      "\u001b[0;31mKeyboardInterrupt\u001b[0m                         Traceback (most recent call last)",
      "Cell \u001b[0;32mIn[28], line 1\u001b[0m\n\u001b[0;32m----> 1\u001b[0m \u001b[43mf\u001b[49m\u001b[38;5;241;43m.\u001b[39;49m\u001b[43mmake_table_features_process\u001b[49m\u001b[43m(\u001b[49m\u001b[43mstock_set\u001b[49m\u001b[43m,\u001b[49m\u001b[43m \u001b[49m\u001b[43minterval\u001b[49m\u001b[43m,\u001b[49m\u001b[43m \u001b[49m\u001b[38;5;241;43m8\u001b[39;49m\u001b[43m)\u001b[49m\n",
      "File \u001b[0;32m~/Documents/github/stock_production_agg/src/modules.py:360\u001b[0m, in \u001b[0;36mmake_table_features_process\u001b[0;34m(stock_set, interval, processes)\u001b[0m\n\u001b[1;32m    357\u001b[0m params \u001b[38;5;241m=\u001b[39m [(symbol, interval) \u001b[38;5;28;01mfor\u001b[39;00m symbol \u001b[38;5;129;01min\u001b[39;00m stock_set]\n\u001b[1;32m    359\u001b[0m \u001b[38;5;28;01mwith\u001b[39;00m multiprocessing\u001b[38;5;241m.\u001b[39mPool(processes\u001b[38;5;241m=\u001b[39mprocesses) \u001b[38;5;28;01mas\u001b[39;00m pool:\n\u001b[0;32m--> 360\u001b[0m     \u001b[43mpool\u001b[49m\u001b[38;5;241;43m.\u001b[39;49m\u001b[43mstarmap\u001b[49m\u001b[43m(\u001b[49m\u001b[43mmake_table_features\u001b[49m\u001b[43m,\u001b[49m\u001b[43m \u001b[49m\u001b[43mparams\u001b[49m\u001b[43m)\u001b[49m\n",
      "File \u001b[0;32m/usr/lib/python3.12/multiprocessing/pool.py:375\u001b[0m, in \u001b[0;36mPool.starmap\u001b[0;34m(self, func, iterable, chunksize)\u001b[0m\n\u001b[1;32m    369\u001b[0m \u001b[38;5;28;01mdef\u001b[39;00m\u001b[38;5;250m \u001b[39m\u001b[38;5;21mstarmap\u001b[39m(\u001b[38;5;28mself\u001b[39m, func, iterable, chunksize\u001b[38;5;241m=\u001b[39m\u001b[38;5;28;01mNone\u001b[39;00m):\n\u001b[1;32m    370\u001b[0m \u001b[38;5;250m    \u001b[39m\u001b[38;5;124;03m'''\u001b[39;00m\n\u001b[1;32m    371\u001b[0m \u001b[38;5;124;03m    Like `map()` method but the elements of the `iterable` are expected to\u001b[39;00m\n\u001b[1;32m    372\u001b[0m \u001b[38;5;124;03m    be iterables as well and will be unpacked as arguments. Hence\u001b[39;00m\n\u001b[1;32m    373\u001b[0m \u001b[38;5;124;03m    `func` and (a, b) becomes func(a, b).\u001b[39;00m\n\u001b[1;32m    374\u001b[0m \u001b[38;5;124;03m    '''\u001b[39;00m\n\u001b[0;32m--> 375\u001b[0m     \u001b[38;5;28;01mreturn\u001b[39;00m \u001b[38;5;28;43mself\u001b[39;49m\u001b[38;5;241;43m.\u001b[39;49m\u001b[43m_map_async\u001b[49m\u001b[43m(\u001b[49m\u001b[43mfunc\u001b[49m\u001b[43m,\u001b[49m\u001b[43m \u001b[49m\u001b[43miterable\u001b[49m\u001b[43m,\u001b[49m\u001b[43m \u001b[49m\u001b[43mstarmapstar\u001b[49m\u001b[43m,\u001b[49m\u001b[43m \u001b[49m\u001b[43mchunksize\u001b[49m\u001b[43m)\u001b[49m\u001b[38;5;241;43m.\u001b[39;49m\u001b[43mget\u001b[49m\u001b[43m(\u001b[49m\u001b[43m)\u001b[49m\n",
      "File \u001b[0;32m/usr/lib/python3.12/multiprocessing/pool.py:768\u001b[0m, in \u001b[0;36mApplyResult.get\u001b[0;34m(self, timeout)\u001b[0m\n\u001b[1;32m    767\u001b[0m \u001b[38;5;28;01mdef\u001b[39;00m\u001b[38;5;250m \u001b[39m\u001b[38;5;21mget\u001b[39m(\u001b[38;5;28mself\u001b[39m, timeout\u001b[38;5;241m=\u001b[39m\u001b[38;5;28;01mNone\u001b[39;00m):\n\u001b[0;32m--> 768\u001b[0m     \u001b[38;5;28;43mself\u001b[39;49m\u001b[38;5;241;43m.\u001b[39;49m\u001b[43mwait\u001b[49m\u001b[43m(\u001b[49m\u001b[43mtimeout\u001b[49m\u001b[43m)\u001b[49m\n\u001b[1;32m    769\u001b[0m     \u001b[38;5;28;01mif\u001b[39;00m \u001b[38;5;129;01mnot\u001b[39;00m \u001b[38;5;28mself\u001b[39m\u001b[38;5;241m.\u001b[39mready():\n\u001b[1;32m    770\u001b[0m         \u001b[38;5;28;01mraise\u001b[39;00m \u001b[38;5;167;01mTimeoutError\u001b[39;00m\n",
      "File \u001b[0;32m/usr/lib/python3.12/multiprocessing/pool.py:765\u001b[0m, in \u001b[0;36mApplyResult.wait\u001b[0;34m(self, timeout)\u001b[0m\n\u001b[1;32m    764\u001b[0m \u001b[38;5;28;01mdef\u001b[39;00m\u001b[38;5;250m \u001b[39m\u001b[38;5;21mwait\u001b[39m(\u001b[38;5;28mself\u001b[39m, timeout\u001b[38;5;241m=\u001b[39m\u001b[38;5;28;01mNone\u001b[39;00m):\n\u001b[0;32m--> 765\u001b[0m     \u001b[38;5;28;43mself\u001b[39;49m\u001b[38;5;241;43m.\u001b[39;49m\u001b[43m_event\u001b[49m\u001b[38;5;241;43m.\u001b[39;49m\u001b[43mwait\u001b[49m\u001b[43m(\u001b[49m\u001b[43mtimeout\u001b[49m\u001b[43m)\u001b[49m\n",
      "File \u001b[0;32m/usr/lib/python3.12/threading.py:655\u001b[0m, in \u001b[0;36mEvent.wait\u001b[0;34m(self, timeout)\u001b[0m\n\u001b[1;32m    653\u001b[0m signaled \u001b[38;5;241m=\u001b[39m \u001b[38;5;28mself\u001b[39m\u001b[38;5;241m.\u001b[39m_flag\n\u001b[1;32m    654\u001b[0m \u001b[38;5;28;01mif\u001b[39;00m \u001b[38;5;129;01mnot\u001b[39;00m signaled:\n\u001b[0;32m--> 655\u001b[0m     signaled \u001b[38;5;241m=\u001b[39m \u001b[38;5;28;43mself\u001b[39;49m\u001b[38;5;241;43m.\u001b[39;49m\u001b[43m_cond\u001b[49m\u001b[38;5;241;43m.\u001b[39;49m\u001b[43mwait\u001b[49m\u001b[43m(\u001b[49m\u001b[43mtimeout\u001b[49m\u001b[43m)\u001b[49m\n\u001b[1;32m    656\u001b[0m \u001b[38;5;28;01mreturn\u001b[39;00m signaled\n",
      "File \u001b[0;32m/usr/lib/python3.12/threading.py:355\u001b[0m, in \u001b[0;36mCondition.wait\u001b[0;34m(self, timeout)\u001b[0m\n\u001b[1;32m    353\u001b[0m \u001b[38;5;28;01mtry\u001b[39;00m:    \u001b[38;5;66;03m# restore state no matter what (e.g., KeyboardInterrupt)\u001b[39;00m\n\u001b[1;32m    354\u001b[0m     \u001b[38;5;28;01mif\u001b[39;00m timeout \u001b[38;5;129;01mis\u001b[39;00m \u001b[38;5;28;01mNone\u001b[39;00m:\n\u001b[0;32m--> 355\u001b[0m         \u001b[43mwaiter\u001b[49m\u001b[38;5;241;43m.\u001b[39;49m\u001b[43macquire\u001b[49m\u001b[43m(\u001b[49m\u001b[43m)\u001b[49m\n\u001b[1;32m    356\u001b[0m         gotit \u001b[38;5;241m=\u001b[39m \u001b[38;5;28;01mTrue\u001b[39;00m\n\u001b[1;32m    357\u001b[0m     \u001b[38;5;28;01melse\u001b[39;00m:\n",
      "\u001b[0;31mKeyboardInterrupt\u001b[0m: "
     ]
    }
   ],
   "source": [
    "f.make_table_features_process(stock_set, interval, 8)"
   ]
  },
  {
   "cell_type": "code",
   "execution_count": null,
   "id": "cd3b2af8-495c-48b7-894f-8d7842e1b519",
   "metadata": {},
   "outputs": [],
   "source": [
    "f.make_master_table(stock_set, interval)"
   ]
  },
  {
   "cell_type": "code",
   "execution_count": null,
   "id": "6217b6c2-5e9d-468d-89b2-52643577b161",
   "metadata": {},
   "outputs": [],
   "source": [
    "f.xg_boost_model(interval)"
   ]
  },
  {
   "cell_type": "code",
   "execution_count": 8,
   "id": "34a1c221-4de9-4792-bb9a-a24337cb849c",
   "metadata": {},
   "outputs": [
    {
     "name": "stdout",
     "output_type": "stream",
     "text": [
      "\n",
      "Model Prediction 1d NVDA:\n",
      "Predicted Next 1d Movement: UP\n",
      "\n",
      "Model Prediction Probabilities:\n",
      "no_change (0): 0.3285\n",
      "up (1): 0.3846\n",
      "down (2): 0.2869\n",
      "\n",
      "Last Entry 1d NVDA Datetime Used for Prediction:\n",
      "NOTE: It's in or contains the full 1d time interval.\n",
      "EST: 2025-01-15 12:00:00 AM EST-0500\n",
      "PDT: 2025-01-14 09:00:00 PM PST-0800\n"
     ]
    }
   ],
   "source": [
    "f.model_prospect('nvda', '1d')"
   ]
  },
  {
   "cell_type": "code",
   "execution_count": 20,
   "id": "66ce05cf-2611-4895-87f2-6b08e208dfbe",
   "metadata": {},
   "outputs": [
    {
     "data": {
      "text/html": [
       "<div>\n",
       "<style scoped>\n",
       "    .dataframe tbody tr th:only-of-type {\n",
       "        vertical-align: middle;\n",
       "    }\n",
       "\n",
       "    .dataframe tbody tr th {\n",
       "        vertical-align: top;\n",
       "    }\n",
       "\n",
       "    .dataframe thead th {\n",
       "        text-align: right;\n",
       "    }\n",
       "</style>\n",
       "<table border=\"1\" class=\"dataframe\">\n",
       "  <thead>\n",
       "    <tr style=\"text-align: right;\">\n",
       "      <th></th>\n",
       "      <th>slow_sma_signal</th>\n",
       "      <th>fast_sma_signal</th>\n",
       "      <th>stdev20</th>\n",
       "      <th>stdev10</th>\n",
       "      <th>stdev5</th>\n",
       "      <th>vix_stdev20</th>\n",
       "      <th>vix_stdev10</th>\n",
       "      <th>vix_stdev5</th>\n",
       "      <th>vol_stdev20</th>\n",
       "      <th>vol_stdev10</th>\n",
       "      <th>...</th>\n",
       "      <th>day_of_month</th>\n",
       "      <th>day_of_week</th>\n",
       "      <th>hour_of_day</th>\n",
       "      <th>candle_cluster</th>\n",
       "      <th>direction</th>\n",
       "      <th>prediction</th>\n",
       "      <th>no_change_prob</th>\n",
       "      <th>up_prob</th>\n",
       "      <th>down_prob</th>\n",
       "      <th>dir_pred_match</th>\n",
       "    </tr>\n",
       "    <tr>\n",
       "      <th>Datetime</th>\n",
       "      <th></th>\n",
       "      <th></th>\n",
       "      <th></th>\n",
       "      <th></th>\n",
       "      <th></th>\n",
       "      <th></th>\n",
       "      <th></th>\n",
       "      <th></th>\n",
       "      <th></th>\n",
       "      <th></th>\n",
       "      <th></th>\n",
       "      <th></th>\n",
       "      <th></th>\n",
       "      <th></th>\n",
       "      <th></th>\n",
       "      <th></th>\n",
       "      <th></th>\n",
       "      <th></th>\n",
       "      <th></th>\n",
       "      <th></th>\n",
       "      <th></th>\n",
       "    </tr>\n",
       "  </thead>\n",
       "  <tbody>\n",
       "    <tr>\n",
       "      <th>2025-03-28 15:40:00+00:00</th>\n",
       "      <td>0</td>\n",
       "      <td>1</td>\n",
       "      <td>0.280278</td>\n",
       "      <td>0.224108</td>\n",
       "      <td>0.250095</td>\n",
       "      <td>0.268137</td>\n",
       "      <td>0.218744</td>\n",
       "      <td>0.227442</td>\n",
       "      <td>1.437108e+06</td>\n",
       "      <td>355927.654629</td>\n",
       "      <td>...</td>\n",
       "      <td>28</td>\n",
       "      <td>4</td>\n",
       "      <td>11</td>\n",
       "      <td>2.0</td>\n",
       "      <td>no_change</td>\n",
       "      <td>down</td>\n",
       "      <td>0.194525</td>\n",
       "      <td>0.367897</td>\n",
       "      <td>0.437578</td>\n",
       "      <td>0</td>\n",
       "    </tr>\n",
       "    <tr>\n",
       "      <th>2025-03-28 15:45:00+00:00</th>\n",
       "      <td>1</td>\n",
       "      <td>1</td>\n",
       "      <td>0.260314</td>\n",
       "      <td>0.242879</td>\n",
       "      <td>0.186914</td>\n",
       "      <td>0.217972</td>\n",
       "      <td>0.233069</td>\n",
       "      <td>0.121532</td>\n",
       "      <td>1.320801e+06</td>\n",
       "      <td>360969.747138</td>\n",
       "      <td>...</td>\n",
       "      <td>28</td>\n",
       "      <td>4</td>\n",
       "      <td>11</td>\n",
       "      <td>2.0</td>\n",
       "      <td>down</td>\n",
       "      <td>down</td>\n",
       "      <td>0.199911</td>\n",
       "      <td>0.367338</td>\n",
       "      <td>0.432751</td>\n",
       "      <td>1</td>\n",
       "    </tr>\n",
       "    <tr>\n",
       "      <th>2025-03-28 15:50:00+00:00</th>\n",
       "      <td>1</td>\n",
       "      <td>1</td>\n",
       "      <td>0.237532</td>\n",
       "      <td>0.219319</td>\n",
       "      <td>0.210216</td>\n",
       "      <td>0.194936</td>\n",
       "      <td>0.200336</td>\n",
       "      <td>0.101637</td>\n",
       "      <td>9.178419e+05</td>\n",
       "      <td>358427.285145</td>\n",
       "      <td>...</td>\n",
       "      <td>28</td>\n",
       "      <td>4</td>\n",
       "      <td>11</td>\n",
       "      <td>0.0</td>\n",
       "      <td>down</td>\n",
       "      <td>down</td>\n",
       "      <td>0.253257</td>\n",
       "      <td>0.358921</td>\n",
       "      <td>0.387821</td>\n",
       "      <td>1</td>\n",
       "    </tr>\n",
       "    <tr>\n",
       "      <th>2025-03-28 15:55:00+00:00</th>\n",
       "      <td>1</td>\n",
       "      <td>1</td>\n",
       "      <td>0.249590</td>\n",
       "      <td>0.258123</td>\n",
       "      <td>0.333554</td>\n",
       "      <td>0.186593</td>\n",
       "      <td>0.177401</td>\n",
       "      <td>0.132401</td>\n",
       "      <td>8.785887e+05</td>\n",
       "      <td>351818.980154</td>\n",
       "      <td>...</td>\n",
       "      <td>28</td>\n",
       "      <td>4</td>\n",
       "      <td>11</td>\n",
       "      <td>0.0</td>\n",
       "      <td>up</td>\n",
       "      <td>down</td>\n",
       "      <td>0.253257</td>\n",
       "      <td>0.358921</td>\n",
       "      <td>0.387821</td>\n",
       "      <td>0</td>\n",
       "    </tr>\n",
       "    <tr>\n",
       "      <th>2025-03-28 16:00:00+00:00</th>\n",
       "      <td>1</td>\n",
       "      <td>0</td>\n",
       "      <td>0.246052</td>\n",
       "      <td>0.253481</td>\n",
       "      <td>0.308369</td>\n",
       "      <td>0.176549</td>\n",
       "      <td>0.175942</td>\n",
       "      <td>0.090719</td>\n",
       "      <td>7.921207e+05</td>\n",
       "      <td>186090.329962</td>\n",
       "      <td>...</td>\n",
       "      <td>28</td>\n",
       "      <td>4</td>\n",
       "      <td>12</td>\n",
       "      <td>0.0</td>\n",
       "      <td>up</td>\n",
       "      <td>down</td>\n",
       "      <td>0.309507</td>\n",
       "      <td>0.282629</td>\n",
       "      <td>0.407865</td>\n",
       "      <td>0</td>\n",
       "    </tr>\n",
       "  </tbody>\n",
       "</table>\n",
       "<p>5 rows × 34 columns</p>\n",
       "</div>"
      ],
      "text/plain": [
       "                           slow_sma_signal  fast_sma_signal   stdev20  \\\n",
       "Datetime                                                                \n",
       "2025-03-28 15:40:00+00:00                0                1  0.280278   \n",
       "2025-03-28 15:45:00+00:00                1                1  0.260314   \n",
       "2025-03-28 15:50:00+00:00                1                1  0.237532   \n",
       "2025-03-28 15:55:00+00:00                1                1  0.249590   \n",
       "2025-03-28 16:00:00+00:00                1                0  0.246052   \n",
       "\n",
       "                            stdev10    stdev5  vix_stdev20  vix_stdev10  \\\n",
       "Datetime                                                                  \n",
       "2025-03-28 15:40:00+00:00  0.224108  0.250095     0.268137     0.218744   \n",
       "2025-03-28 15:45:00+00:00  0.242879  0.186914     0.217972     0.233069   \n",
       "2025-03-28 15:50:00+00:00  0.219319  0.210216     0.194936     0.200336   \n",
       "2025-03-28 15:55:00+00:00  0.258123  0.333554     0.186593     0.177401   \n",
       "2025-03-28 16:00:00+00:00  0.253481  0.308369     0.176549     0.175942   \n",
       "\n",
       "                           vix_stdev5   vol_stdev20    vol_stdev10  ...  \\\n",
       "Datetime                                                            ...   \n",
       "2025-03-28 15:40:00+00:00    0.227442  1.437108e+06  355927.654629  ...   \n",
       "2025-03-28 15:45:00+00:00    0.121532  1.320801e+06  360969.747138  ...   \n",
       "2025-03-28 15:50:00+00:00    0.101637  9.178419e+05  358427.285145  ...   \n",
       "2025-03-28 15:55:00+00:00    0.132401  8.785887e+05  351818.980154  ...   \n",
       "2025-03-28 16:00:00+00:00    0.090719  7.921207e+05  186090.329962  ...   \n",
       "\n",
       "                           day_of_month  day_of_week  hour_of_day  \\\n",
       "Datetime                                                            \n",
       "2025-03-28 15:40:00+00:00            28            4           11   \n",
       "2025-03-28 15:45:00+00:00            28            4           11   \n",
       "2025-03-28 15:50:00+00:00            28            4           11   \n",
       "2025-03-28 15:55:00+00:00            28            4           11   \n",
       "2025-03-28 16:00:00+00:00            28            4           12   \n",
       "\n",
       "                           candle_cluster  direction  prediction  \\\n",
       "Datetime                                                           \n",
       "2025-03-28 15:40:00+00:00             2.0  no_change        down   \n",
       "2025-03-28 15:45:00+00:00             2.0       down        down   \n",
       "2025-03-28 15:50:00+00:00             0.0       down        down   \n",
       "2025-03-28 15:55:00+00:00             0.0         up        down   \n",
       "2025-03-28 16:00:00+00:00             0.0         up        down   \n",
       "\n",
       "                           no_change_prob   up_prob  down_prob  dir_pred_match  \n",
       "Datetime                                                                        \n",
       "2025-03-28 15:40:00+00:00        0.194525  0.367897   0.437578               0  \n",
       "2025-03-28 15:45:00+00:00        0.199911  0.367338   0.432751               1  \n",
       "2025-03-28 15:50:00+00:00        0.253257  0.358921   0.387821               1  \n",
       "2025-03-28 15:55:00+00:00        0.253257  0.358921   0.387821               0  \n",
       "2025-03-28 16:00:00+00:00        0.309507  0.282629   0.407865               0  \n",
       "\n",
       "[5 rows x 34 columns]"
      ]
     },
     "execution_count": 20,
     "metadata": {},
     "output_type": "execute_result"
    }
   ],
   "source": [
    "df_val_nvda = f.model_validation('nvda', '5m')\n",
    "df_val_nvda.head(5)"
   ]
  },
  {
   "cell_type": "code",
   "execution_count": 21,
   "id": "62387db1-d882-41ce-b420-23b58d17add4",
   "metadata": {},
   "outputs": [
    {
     "data": {
      "text/plain": [
       "20"
      ]
     },
     "execution_count": 21,
     "metadata": {},
     "output_type": "execute_result"
    }
   ],
   "source": [
    "df_val_nvda.dir_pred_match.sum()"
   ]
  },
  {
   "cell_type": "code",
   "execution_count": 22,
   "id": "46ec2f20-e9ec-42bd-bda9-f6309424ca27",
   "metadata": {},
   "outputs": [
    {
     "data": {
      "text/plain": [
       "(50, 34)"
      ]
     },
     "execution_count": 22,
     "metadata": {},
     "output_type": "execute_result"
    }
   ],
   "source": [
    "df_val_nvda.shape"
   ]
  },
  {
   "cell_type": "code",
   "execution_count": 25,
   "id": "79c47721-b0da-4fa9-ac1b-5cb895aba542",
   "metadata": {},
   "outputs": [
    {
     "data": {
      "text/plain": [
       "0.4"
      ]
     },
     "execution_count": 25,
     "metadata": {},
     "output_type": "execute_result"
    }
   ],
   "source": [
    "20/50"
   ]
  },
  {
   "cell_type": "code",
   "execution_count": null,
   "id": "1cfb6f56-47ff-4e86-bf84-3744c6fa77e0",
   "metadata": {},
   "outputs": [],
   "source": []
  }
 ],
 "metadata": {
  "kernelspec": {
   "display_name": "Python (stkenv)",
   "language": "python",
   "name": "stkenv"
  },
  "language_info": {
   "codemirror_mode": {
    "name": "ipython",
    "version": 3
   },
   "file_extension": ".py",
   "mimetype": "text/x-python",
   "name": "python",
   "nbconvert_exporter": "python",
   "pygments_lexer": "ipython3",
   "version": "3.12.3"
  }
 },
 "nbformat": 4,
 "nbformat_minor": 5
}
