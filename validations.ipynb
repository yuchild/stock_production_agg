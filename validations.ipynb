{
 "cells": [
  {
   "cell_type": "code",
   "execution_count": 7,
   "id": "cee65a2e-f12f-45eb-af0e-6afe583badfe",
   "metadata": {},
   "outputs": [],
   "source": [
    "from src import modules as f\n",
    "%load_ext autoreload\n",
    "%autoreload 2"
   ]
  },
  {
   "cell_type": "code",
   "execution_count": 2,
   "id": "bd47c8e5-091d-441c-8c69-a157d01f3d44",
   "metadata": {},
   "outputs": [],
   "source": [
    "# !pip install -r requirements.txt"
   ]
  },
  {
   "cell_type": "code",
   "execution_count": 3,
   "id": "c06de9be-0833-499e-859f-19c3f351be06",
   "metadata": {},
   "outputs": [],
   "source": [
    "import pandas as pd\n",
    "import numpy as np\n",
    "import yfinance as yf\n",
    "import matplotlib.pyplot as plt\n",
    "import logging"
   ]
  },
  {
   "cell_type": "code",
   "execution_count": 4,
   "id": "b291dc22-8e17-4113-934a-aad7a7a0888c",
   "metadata": {},
   "outputs": [
    {
     "data": {
      "text/plain": [
       "{'AAPL', 'ACN', 'AVGO', 'CRM', 'CSCO', 'IBM', 'MSFT', 'NOW', 'NVDA', 'ORCL'}"
      ]
     },
     "execution_count": 4,
     "metadata": {},
     "output_type": "execute_result"
    }
   ],
   "source": [
    "spy = yf.Ticker('XLK')\n",
    "spy_holdings_df = spy.get_funds_data().top_holdings\n",
    "set(spy_holdings_df.index)"
   ]
  },
  {
   "cell_type": "code",
   "execution_count": 15,
   "id": "580d448e-b73f-4c22-87e8-57be34ef94fc",
   "metadata": {},
   "outputs": [
    {
     "data": {
      "text/plain": [
       "{'AAPL',\n",
       " 'ABBV',\n",
       " 'ABT',\n",
       " 'ACN',\n",
       " 'AEP',\n",
       " 'AJG',\n",
       " 'AMGN',\n",
       " 'AMZN',\n",
       " 'APH',\n",
       " 'ATO',\n",
       " 'AVGO',\n",
       " 'AXP',\n",
       " 'BAC',\n",
       " 'BRK-B',\n",
       " 'BSX',\n",
       " 'CEG',\n",
       " 'CL',\n",
       " 'CMCSA',\n",
       " 'COP',\n",
       " 'COST',\n",
       " 'CRM',\n",
       " 'CSCO',\n",
       " 'CVX',\n",
       " 'D',\n",
       " 'DASH',\n",
       " 'DECK',\n",
       " 'DIS',\n",
       " 'DUK',\n",
       " 'EOG',\n",
       " 'EXC',\n",
       " 'EXE',\n",
       " 'FCNCA',\n",
       " 'GOOG',\n",
       " 'GOOGL',\n",
       " 'GS',\n",
       " 'HD',\n",
       " 'IBM',\n",
       " 'ISRG',\n",
       " 'JNJ',\n",
       " 'JPM',\n",
       " 'KMI',\n",
       " 'KO',\n",
       " 'LLY',\n",
       " 'LNG',\n",
       " 'MA',\n",
       " 'MDLZ',\n",
       " 'META',\n",
       " 'MO',\n",
       " 'MPC',\n",
       " 'MRK',\n",
       " 'MS',\n",
       " 'MSFT',\n",
       " 'MSI',\n",
       " 'NEE',\n",
       " 'NFLX',\n",
       " 'NOW',\n",
       " 'NRG',\n",
       " 'NTRA',\n",
       " 'NVDA',\n",
       " 'OKE',\n",
       " 'ORCL',\n",
       " 'PCAR',\n",
       " 'PEG',\n",
       " 'PEP',\n",
       " 'PG',\n",
       " 'PLTR',\n",
       " 'PM',\n",
       " 'PSTG',\n",
       " 'PTC',\n",
       " 'RCL',\n",
       " 'SLB',\n",
       " 'SO',\n",
       " 'SPGI',\n",
       " 'SRE',\n",
       " 'SW',\n",
       " 'T',\n",
       " 'TDG',\n",
       " 'TGT',\n",
       " 'TMO',\n",
       " 'TMUS',\n",
       " 'TSLA',\n",
       " 'TTD',\n",
       " 'UNH',\n",
       " 'V',\n",
       " 'VST',\n",
       " 'VZ',\n",
       " 'WELL',\n",
       " 'WFC',\n",
       " 'WMB',\n",
       " 'WMT',\n",
       " 'WSM',\n",
       " 'XOM'}"
      ]
     },
     "execution_count": 15,
     "metadata": {},
     "output_type": "execute_result"
    }
   ],
   "source": [
    "stock_list = f.etf_top_stocks('voo', 'vgt', 'vde', 'vpu', 'vdc', 'vfh', 'vht', 'vym', 'vox', 'vb', 'vo', 'vv', 'vug', 'vtv')\n",
    "stock_list"
   ]
  },
  {
   "cell_type": "code",
   "execution_count": null,
   "id": "aad94b6a-6ef9-4840-bf96-179db9cadeaf",
   "metadata": {},
   "outputs": [],
   "source": [
    "f.download('AAPL', '1d')\n",
    "aapl_1d_df = f.load_raw('AAPL', '1d')"
   ]
  }
 ],
 "metadata": {
  "kernelspec": {
   "display_name": "Python (stkenv)",
   "language": "python",
   "name": "stkenv"
  },
  "language_info": {
   "codemirror_mode": {
    "name": "ipython",
    "version": 3
   },
   "file_extension": ".py",
   "mimetype": "text/x-python",
   "name": "python",
   "nbconvert_exporter": "python",
   "pygments_lexer": "ipython3",
   "version": "3.12.3"
  }
 },
 "nbformat": 4,
 "nbformat_minor": 5
}
