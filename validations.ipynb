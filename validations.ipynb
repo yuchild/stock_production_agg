{
 "cells": [
  {
   "cell_type": "code",
   "execution_count": 1,
   "id": "bd47c8e5-091d-441c-8c69-a157d01f3d44",
   "metadata": {},
   "outputs": [],
   "source": [
    "# !pip install -r requirements.txt"
   ]
  },
  {
   "cell_type": "code",
   "execution_count": 2,
   "id": "c06de9be-0833-499e-859f-19c3f351be06",
   "metadata": {},
   "outputs": [],
   "source": [
    "import pandas as pd\n",
    "import numpy as np\n",
    "import yfinance as yf\n",
    "import matplotlib.pyplot as plt\n",
    "import logging\n",
    "import multiprocessing\n",
    "from datetime import datetime, timedelta\n",
    "\n",
    "from src import modules as f\n",
    "%load_ext autoreload\n",
    "%autoreload 2"
   ]
  },
  {
   "cell_type": "code",
   "execution_count": 3,
   "id": "f11530b7-8037-42cf-8d26-e3030b661ebd",
   "metadata": {},
   "outputs": [],
   "source": [
    "stock_list = f.download_interval_process('1d', 1)"
   ]
  },
  {
   "cell_type": "code",
   "execution_count": 4,
   "id": "26da5549-d796-412d-a40a-2dab73dd132a",
   "metadata": {},
   "outputs": [
    {
     "data": {
      "text/plain": [
       "{'AAPL',\n",
       " 'ABBV',\n",
       " 'ABT',\n",
       " 'ACN',\n",
       " 'AEP',\n",
       " 'AJG',\n",
       " 'AMGN',\n",
       " 'AMZN',\n",
       " 'APH',\n",
       " 'ATO',\n",
       " 'AVGO',\n",
       " 'AXP',\n",
       " 'BAC',\n",
       " 'BRK-B',\n",
       " 'BSX',\n",
       " 'CEG',\n",
       " 'CL',\n",
       " 'CMCSA',\n",
       " 'COP',\n",
       " 'COST',\n",
       " 'CRM',\n",
       " 'CSCO',\n",
       " 'CVX',\n",
       " 'D',\n",
       " 'DASH',\n",
       " 'DECK',\n",
       " 'DIS',\n",
       " 'DUK',\n",
       " 'EOG',\n",
       " 'EXC',\n",
       " 'EXE',\n",
       " 'FCNCA',\n",
       " 'GOOG',\n",
       " 'GOOGL',\n",
       " 'GS',\n",
       " 'HD',\n",
       " 'IBM',\n",
       " 'ISRG',\n",
       " 'JNJ',\n",
       " 'JPM',\n",
       " 'KMI',\n",
       " 'KO',\n",
       " 'LLY',\n",
       " 'LNG',\n",
       " 'MA',\n",
       " 'MDLZ',\n",
       " 'META',\n",
       " 'MO',\n",
       " 'MPC',\n",
       " 'MRK',\n",
       " 'MS',\n",
       " 'MSFT',\n",
       " 'MSI',\n",
       " 'NEE',\n",
       " 'NFLX',\n",
       " 'NOW',\n",
       " 'NRG',\n",
       " 'NTRA',\n",
       " 'NVDA',\n",
       " 'OKE',\n",
       " 'ORCL',\n",
       " 'PCAR',\n",
       " 'PEG',\n",
       " 'PEP',\n",
       " 'PG',\n",
       " 'PLTR',\n",
       " 'PM',\n",
       " 'PSTG',\n",
       " 'PTC',\n",
       " 'RCL',\n",
       " 'SLB',\n",
       " 'SO',\n",
       " 'SPGI',\n",
       " 'SRE',\n",
       " 'SW',\n",
       " 'T',\n",
       " 'TDG',\n",
       " 'TGT',\n",
       " 'TMO',\n",
       " 'TMUS',\n",
       " 'TSLA',\n",
       " 'TTD',\n",
       " 'UNH',\n",
       " 'V',\n",
       " 'VST',\n",
       " 'VZ',\n",
       " 'WELL',\n",
       " 'WFC',\n",
       " 'WMB',\n",
       " 'WMT',\n",
       " 'WSM',\n",
       " 'XOM',\n",
       " '^VIX'}"
      ]
     },
     "execution_count": 4,
     "metadata": {},
     "output_type": "execute_result"
    }
   ],
   "source": [
    "stock_list"
   ]
  },
  {
   "cell_type": "code",
   "execution_count": 6,
   "id": "f48e7c68-727f-4f6d-962b-b75c3aa51d76",
   "metadata": {},
   "outputs": [],
   "source": [
    "stock_list = f.make_table_features_process('1d', 8)"
   ]
  },
  {
   "cell_type": "code",
   "execution_count": 7,
   "id": "1034624a-9f10-4bfd-9c3e-4c2cd27fa12a",
   "metadata": {},
   "outputs": [
    {
     "name": "stdout",
     "output_type": "stream",
     "text": [
      "Saved combined dataframe to: ./data_transformed/all_1d_model_df.pkl\n"
     ]
    }
   ],
   "source": [
    "f.make_master_table(stock_list, '1d')"
   ]
  },
  {
   "cell_type": "code",
   "execution_count": 8,
   "id": "1226e5b7-2570-4114-8d8c-0f923256adb6",
   "metadata": {},
   "outputs": [
    {
     "name": "stderr",
     "output_type": "stream",
     "text": [
      "/home/oem/Documents/github/stock_production_agg/stkenv/lib/python3.12/site-packages/xgboost/core.py:158: UserWarning: [02:26:07] WARNING: /workspace/src/learner.cc:740: \n",
      "Parameters: { \"use_label_encoder\" } are not used.\n",
      "\n",
      "  warnings.warn(smsg, UserWarning)\n"
     ]
    },
    {
     "name": "stdout",
     "output_type": "stream",
     "text": [
      "              precision    recall  f1-score   support\n",
      "\n",
      "           0       0.39      0.36      0.38     54942\n",
      "           1       0.42      0.42      0.42     54953\n",
      "           2       0.41      0.43      0.42     54951\n",
      "\n",
      "    accuracy                           0.41    164846\n",
      "   macro avg       0.41      0.41      0.41    164846\n",
      "weighted avg       0.41      0.41      0.41    164846\n",
      "\n",
      "\n",
      "Feature Importances (Descending):\n",
      "                   feature  importance\n",
      "38    cat__day_of_month_23    0.031042\n",
      "23     cat__day_of_month_8    0.028180\n",
      "42    cat__day_of_month_27    0.026648\n",
      "39    cat__day_of_month_24    0.026318\n",
      "46    cat__day_of_month_31    0.026296\n",
      "15   cat__month_of_year_12    0.025230\n",
      "19     cat__day_of_month_4    0.024758\n",
      "25    cat__day_of_month_10    0.024551\n",
      "10    cat__month_of_year_7    0.024243\n",
      "11    cat__month_of_year_8    0.024034\n",
      "6     cat__month_of_year_3    0.023853\n",
      "14   cat__month_of_year_11    0.023555\n",
      "33    cat__day_of_month_18    0.023270\n",
      "13   cat__month_of_year_10    0.022998\n",
      "4     cat__month_of_year_1    0.022585\n",
      "36    cat__day_of_month_21    0.022536\n",
      "7     cat__month_of_year_4    0.021825\n",
      "28    cat__day_of_month_13    0.021793\n",
      "45    cat__day_of_month_30    0.021476\n",
      "21     cat__day_of_month_6    0.021382\n",
      "8     cat__month_of_year_5    0.021171\n",
      "9     cat__month_of_year_6    0.020810\n",
      "22     cat__day_of_month_7    0.020776\n",
      "5     cat__month_of_year_2    0.020211\n",
      "12    cat__month_of_year_9    0.020205\n",
      "18     cat__day_of_month_3    0.020030\n",
      "27    cat__day_of_month_12    0.019777\n",
      "17     cat__day_of_month_2    0.019754\n",
      "35    cat__day_of_month_20    0.019627\n",
      "32    cat__day_of_month_17    0.018880\n",
      "20     cat__day_of_month_5    0.018735\n",
      "37    cat__day_of_month_22    0.018612\n",
      "49      cat__day_of_week_2    0.018325\n",
      "44    cat__day_of_month_29    0.017735\n",
      "50      cat__day_of_week_3    0.017700\n",
      "34    cat__day_of_month_19    0.017558\n",
      "47      cat__day_of_week_0    0.017536\n",
      "41    cat__day_of_month_26    0.017519\n",
      "30    cat__day_of_month_15    0.017087\n",
      "48      cat__day_of_week_1    0.017054\n",
      "51      cat__day_of_week_4    0.016375\n",
      "24     cat__day_of_month_9    0.016351\n",
      "40    cat__day_of_month_25    0.016300\n",
      "43    cat__day_of_month_28    0.015988\n",
      "31    cat__day_of_month_16    0.015611\n",
      "26    cat__day_of_month_11    0.012968\n",
      "16     cat__day_of_month_1    0.011768\n",
      "29    cat__day_of_month_14    0.010289\n",
      "0   cat__slow_sma_signal_0    0.010096\n",
      "2   cat__fast_sma_signal_0    0.008577\n",
      "1   cat__slow_sma_signal_1    0.000000\n",
      "3   cat__fast_sma_signal_1    0.000000\n",
      "\n",
      "Model saved at: ./models/xgboost_1d_model.pkl\n"
     ]
    }
   ],
   "source": [
    "f.xg_boost_model()"
   ]
  },
  {
   "cell_type": "code",
   "execution_count": null,
   "id": "34a1c221-4de9-4792-bb9a-a24337cb849c",
   "metadata": {},
   "outputs": [],
   "source": []
  }
 ],
 "metadata": {
  "kernelspec": {
   "display_name": "Python (stkenv)",
   "language": "python",
   "name": "stkenv"
  },
  "language_info": {
   "codemirror_mode": {
    "name": "ipython",
    "version": 3
   },
   "file_extension": ".py",
   "mimetype": "text/x-python",
   "name": "python",
   "nbconvert_exporter": "python",
   "pygments_lexer": "ipython3",
   "version": "3.12.3"
  }
 },
 "nbformat": 4,
 "nbformat_minor": 5
}
