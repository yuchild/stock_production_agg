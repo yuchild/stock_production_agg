{
 "cells": [
  {
   "cell_type": "code",
   "execution_count": null,
   "id": "bd47c8e5-091d-441c-8c69-a157d01f3d44",
   "metadata": {},
   "outputs": [],
   "source": [
    "# !pip install -r requirements.txt"
   ]
  },
  {
   "cell_type": "code",
   "execution_count": 1,
   "id": "c06de9be-0833-499e-859f-19c3f351be06",
   "metadata": {},
   "outputs": [],
   "source": [
    "import pandas as pd\n",
    "import numpy as np\n",
    "import yfinance as yf\n",
    "import matplotlib.pyplot as plt\n",
    "import logging\n",
    "import multiprocessing\n",
    "from datetime import datetime, timedelta\n",
    "\n",
    "from src import modules as f\n",
    "%load_ext autoreload\n",
    "%autoreload 2"
   ]
  },
  {
   "cell_type": "code",
   "execution_count": 5,
   "id": "f11530b7-8037-42cf-8d26-e3030b661ebd",
   "metadata": {},
   "outputs": [
    {
     "name": "stdout",
     "output_type": "stream",
     "text": [
      "Stock set: \n",
      "{'SW', 'DECK', 'DKNG', 'AJG', 'PEP', 'MO', 'AMZN', 'WMB', 'ABBV', 'AXP', 'TDG', 'NFLX', 'TMO', 'PGR', 'EXE', 'WMT', 'BSX', 'HD', 'CSCO', 'LLY', 'UNH', 'VST', 'JPM', 'KMI', 'AVGO', 'IBM', 'TPR', 'FCNCA', 'DASH', 'V', 'OKE', 'TGT', 'DIS', 'EOG', 'SLB', 'JNJ', 'MA', 'BRK-B', 'AMGN', 'PG', 'TMUS', 'DUK', 'XEL', 'GS', 'VZ', 'WSM', 'CVX', 'EXC', 'PLTR', 'WFC', 'ISRG', 'AEP', 'MRK', 'GOOGL', 'ORCL', 'ADBE', 'ATO', 'WELL', 'CRM', 'NVDA', 'MSFT', 'T', 'MDLZ', 'CEG', 'MSI', 'APH', 'GOOG', 'TSLA', 'PSX', 'PM', 'SO', 'SRE', 'COST', 'XOM', 'ABT', 'COP', 'SPGI', 'KO', 'BAC', 'CL', 'CMCSA', 'NEE', 'TTWO', 'RCL', 'D', 'FWONK', 'META', 'AAPL', 'LNG', '^VIX', 'NRG', 'ACN'}\n",
      "\n",
      "Saved combined dataframe to: ./data_transformed/all_1d_model_df.pkl\n"
     ]
    },
    {
     "name": "stderr",
     "output_type": "stream",
     "text": [
      "/home/oem/Documents/github/stock_production_agg/stkenv/lib/python3.12/site-packages/xgboost/core.py:158: UserWarning: [21:13:27] WARNING: /workspace/src/learner.cc:740: \n",
      "Parameters: { \"use_label_encoder\" } are not used.\n",
      "\n",
      "  warnings.warn(smsg, UserWarning)\n"
     ]
    },
    {
     "name": "stdout",
     "output_type": "stream",
     "text": [
      "              precision    recall  f1-score   support\n",
      "\n",
      "           0       0.39      0.37      0.38     55714\n",
      "           1       0.41      0.41      0.41     55727\n",
      "           2       0.41      0.43      0.42     55723\n",
      "\n",
      "    accuracy                           0.40    167164\n",
      "   macro avg       0.40      0.40      0.40    167164\n",
      "weighted avg       0.40      0.40      0.40    167164\n",
      "\n",
      "\n",
      "Feature Importances (Descending):\n",
      "                    feature  importance\n",
      "38     cat__day_of_month_23    0.029205\n",
      "39     cat__day_of_month_24    0.027781\n",
      "46     cat__day_of_month_31    0.026894\n",
      "19      cat__day_of_month_4    0.026044\n",
      "42     cat__day_of_month_27    0.024010\n",
      "6      cat__month_of_year_3    0.023762\n",
      "37     cat__day_of_month_22    0.023490\n",
      "13    cat__month_of_year_10    0.023135\n",
      "23      cat__day_of_month_8    0.022966\n",
      "15    cat__month_of_year_12    0.022946\n",
      "11     cat__month_of_year_8    0.022875\n",
      "14    cat__month_of_year_11    0.022627\n",
      "28     cat__day_of_month_13    0.021991\n",
      "41     cat__day_of_month_26    0.021651\n",
      "33     cat__day_of_month_18    0.021491\n",
      "10     cat__month_of_year_7    0.021345\n",
      "45     cat__day_of_month_30    0.021270\n",
      "36     cat__day_of_month_21    0.021194\n",
      "4      cat__month_of_year_1    0.020710\n",
      "22      cat__day_of_month_7    0.020450\n",
      "34     cat__day_of_month_19    0.020060\n",
      "5      cat__month_of_year_2    0.020040\n",
      "12     cat__month_of_year_9    0.019987\n",
      "25     cat__day_of_month_10    0.019927\n",
      "8      cat__month_of_year_5    0.019869\n",
      "7      cat__month_of_year_4    0.019843\n",
      "21      cat__day_of_month_6    0.018770\n",
      "50       cat__day_of_week_3    0.018736\n",
      "9      cat__month_of_year_6    0.018422\n",
      "17      cat__day_of_month_2    0.018368\n",
      "51       cat__day_of_week_4    0.018354\n",
      "32     cat__day_of_month_17    0.018269\n",
      "47       cat__day_of_week_0    0.018114\n",
      "27     cat__day_of_month_12    0.018015\n",
      "35     cat__day_of_month_20    0.017917\n",
      "49       cat__day_of_week_2    0.017875\n",
      "20      cat__day_of_month_5    0.017566\n",
      "26     cat__day_of_month_11    0.017202\n",
      "31     cat__day_of_month_16    0.016904\n",
      "24      cat__day_of_month_9    0.016874\n",
      "16      cat__day_of_month_1    0.016836\n",
      "48       cat__day_of_week_1    0.016739\n",
      "40     cat__day_of_month_25    0.016705\n",
      "18      cat__day_of_month_3    0.016073\n",
      "30     cat__day_of_month_15    0.016030\n",
      "43     cat__day_of_month_28    0.016012\n",
      "44     cat__day_of_month_29    0.013989\n",
      "29     cat__day_of_month_14    0.012875\n",
      "0    cat__slow_sma_signal_0    0.012136\n",
      "2    cat__fast_sma_signal_0    0.010399\n",
      "53  cat__candle_cluster_0.0    0.004430\n",
      "54  cat__candle_cluster_1.0    0.004243\n",
      "55  cat__candle_cluster_2.0    0.004224\n",
      "56  cat__candle_cluster_nan    0.002358\n",
      "1    cat__slow_sma_signal_1    0.000000\n",
      "3    cat__fast_sma_signal_1    0.000000\n",
      "52       cat__hour_of_day_0    0.000000\n",
      "\n",
      "Model saved at: ./models/xgboost_1d_model.pkl\n"
     ]
    }
   ],
   "source": [
    "# Download, load, extract, model...\n",
    "interval = '1d'\n",
    "stock_set = f.download_interval_process(interval, 1)\n",
    "print(f'Stock set: \\n{stock_set}\\n')\n",
    "f.make_table_features_process(stock_set, interval, 8)\n",
    "f.make_master_table(stock_set, interval)\n",
    "f.xg_boost_model(interval)"
   ]
  },
  {
   "cell_type": "code",
   "execution_count": 14,
   "id": "34a1c221-4de9-4792-bb9a-a24337cb849c",
   "metadata": {},
   "outputs": [
    {
     "name": "stdout",
     "output_type": "stream",
     "text": [
      "\n",
      "Model Prediction 1d MU:\n",
      "Predicted Next 1d Movement: DOWN\n",
      "\n",
      "Model Prediction Probabilities:\n",
      "no_change (0): 0.3281\n",
      "up (1): 0.2992\n",
      "down (2): 0.3727\n",
      "\n",
      "Last Entry 1d MU Datetime Used for Prediction:\n",
      "NOTE: It's in or contains the full 1d time interval.\n",
      "EST: 2025-03-27 12:00:00 AM EDT-0400\n",
      "PDT: 2025-03-26 09:00:00 PM PDT-0700\n"
     ]
    }
   ],
   "source": [
    "f.model_prospect('mu', '1d')"
   ]
  },
  {
   "cell_type": "code",
   "execution_count": null,
   "id": "66ce05cf-2611-4895-87f2-6b08e208dfbe",
   "metadata": {},
   "outputs": [],
   "source": []
  }
 ],
 "metadata": {
  "kernelspec": {
   "display_name": "Python (stkenv)",
   "language": "python",
   "name": "stkenv"
  },
  "language_info": {
   "codemirror_mode": {
    "name": "ipython",
    "version": 3
   },
   "file_extension": ".py",
   "mimetype": "text/x-python",
   "name": "python",
   "nbconvert_exporter": "python",
   "pygments_lexer": "ipython3",
   "version": "3.12.3"
  }
 },
 "nbformat": 4,
 "nbformat_minor": 5
}
