{
 "cells": [
  {
   "cell_type": "code",
   "execution_count": null,
   "id": "bd47c8e5-091d-441c-8c69-a157d01f3d44",
   "metadata": {},
   "outputs": [],
   "source": [
    "# !pip install -r requirements.txt"
   ]
  },
  {
   "cell_type": "code",
   "execution_count": 1,
   "id": "c06de9be-0833-499e-859f-19c3f351be06",
   "metadata": {},
   "outputs": [],
   "source": [
    "import pandas as pd\n",
    "import numpy as np\n",
    "import yfinance as yf\n",
    "import matplotlib.pyplot as plt\n",
    "import logging\n",
    "import multiprocessing\n",
    "from datetime import datetime, timedelta\n",
    "\n",
    "from src import modules as f\n",
    "%load_ext autoreload\n",
    "%autoreload 2"
   ]
  },
  {
   "cell_type": "code",
   "execution_count": null,
   "id": "f11530b7-8037-42cf-8d26-e3030b661ebd",
   "metadata": {},
   "outputs": [],
   "source": [
    "# Download, load, extract, model...\n",
    "\n",
    "stock_set = f.download_interval_process('5m', 1)\n",
    "print(f'Stock set: \\n{stock_set}\\n')\n",
    "f.make_table_features_process(stock_set, '5m', 8)\n",
    "f.make_master_table(stock_set, '5m')\n",
    "f.xg_boost_model(interval='5m')"
   ]
  },
  {
   "cell_type": "code",
   "execution_count": null,
   "id": "34a1c221-4de9-4792-bb9a-a24337cb849c",
   "metadata": {},
   "outputs": [],
   "source": [
    "f.model_prospect('goog', '5m')"
   ]
  },
  {
   "cell_type": "code",
   "execution_count": null,
   "id": "66ce05cf-2611-4895-87f2-6b08e208dfbe",
   "metadata": {},
   "outputs": [],
   "source": []
  }
 ],
 "metadata": {
  "kernelspec": {
   "display_name": "Python (stkenv)",
   "language": "python",
   "name": "stkenv"
  },
  "language_info": {
   "codemirror_mode": {
    "name": "ipython",
    "version": 3
   },
   "file_extension": ".py",
   "mimetype": "text/x-python",
   "name": "python",
   "nbconvert_exporter": "python",
   "pygments_lexer": "ipython3",
   "version": "3.12.3"
  }
 },
 "nbformat": 4,
 "nbformat_minor": 5
}
