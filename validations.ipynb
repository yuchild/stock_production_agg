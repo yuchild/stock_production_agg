{
 "cells": [
  {
   "cell_type": "code",
   "execution_count": 4,
   "id": "5fee989b",
   "metadata": {},
   "outputs": [
    {
     "name": "stdout",
     "output_type": "stream",
     "text": [
      "Requirement already satisfied: yfinance in ./stkenv/lib/python3.12/site-packages (0.2.54)\n",
      "Collecting yfinance\n",
      "  Downloading yfinance-0.2.58-py2.py3-none-any.whl.metadata (5.5 kB)\n",
      "Requirement already satisfied: pandas>=1.3.0 in ./stkenv/lib/python3.12/site-packages (from yfinance) (2.2.3)\n",
      "Requirement already satisfied: numpy>=1.16.5 in ./stkenv/lib/python3.12/site-packages (from yfinance) (1.26.4)\n",
      "Requirement already satisfied: requests>=2.31 in ./stkenv/lib/python3.12/site-packages (from yfinance) (2.32.3)\n",
      "Requirement already satisfied: multitasking>=0.0.7 in ./stkenv/lib/python3.12/site-packages (from yfinance) (0.0.11)\n",
      "Requirement already satisfied: platformdirs>=2.0.0 in ./stkenv/lib/python3.12/site-packages (from yfinance) (4.3.6)\n",
      "Requirement already satisfied: pytz>=2022.5 in ./stkenv/lib/python3.12/site-packages (from yfinance) (2025.1)\n",
      "Requirement already satisfied: frozendict>=2.3.4 in ./stkenv/lib/python3.12/site-packages (from yfinance) (2.4.6)\n",
      "Requirement already satisfied: peewee>=3.16.2 in ./stkenv/lib/python3.12/site-packages (from yfinance) (3.17.9)\n",
      "Requirement already satisfied: beautifulsoup4>=4.11.1 in ./stkenv/lib/python3.12/site-packages (from yfinance) (4.13.3)\n",
      "Collecting curl_cffi>=0.7 (from yfinance)\n",
      "  Downloading curl_cffi-0.10.0-cp39-abi3-manylinux_2_17_x86_64.manylinux2014_x86_64.whl.metadata (12 kB)\n",
      "Requirement already satisfied: soupsieve>1.2 in ./stkenv/lib/python3.12/site-packages (from beautifulsoup4>=4.11.1->yfinance) (2.6)\n",
      "Requirement already satisfied: typing-extensions>=4.0.0 in ./stkenv/lib/python3.12/site-packages (from beautifulsoup4>=4.11.1->yfinance) (4.12.2)\n",
      "Requirement already satisfied: cffi>=1.12.0 in ./stkenv/lib/python3.12/site-packages (from curl_cffi>=0.7->yfinance) (1.17.1)\n",
      "Requirement already satisfied: certifi>=2024.2.2 in ./stkenv/lib/python3.12/site-packages (from curl_cffi>=0.7->yfinance) (2025.1.31)\n",
      "Requirement already satisfied: python-dateutil>=2.8.2 in ./stkenv/lib/python3.12/site-packages (from pandas>=1.3.0->yfinance) (2.9.0.post0)\n",
      "Requirement already satisfied: tzdata>=2022.7 in ./stkenv/lib/python3.12/site-packages (from pandas>=1.3.0->yfinance) (2025.1)\n",
      "Requirement already satisfied: charset-normalizer<4,>=2 in ./stkenv/lib/python3.12/site-packages (from requests>=2.31->yfinance) (3.4.1)\n",
      "Requirement already satisfied: idna<4,>=2.5 in ./stkenv/lib/python3.12/site-packages (from requests>=2.31->yfinance) (3.10)\n",
      "Requirement already satisfied: urllib3<3,>=1.21.1 in ./stkenv/lib/python3.12/site-packages (from requests>=2.31->yfinance) (2.3.0)\n",
      "Requirement already satisfied: pycparser in ./stkenv/lib/python3.12/site-packages (from cffi>=1.12.0->curl_cffi>=0.7->yfinance) (2.22)\n",
      "Requirement already satisfied: six>=1.5 in ./stkenv/lib/python3.12/site-packages (from python-dateutil>=2.8.2->pandas>=1.3.0->yfinance) (1.17.0)\n",
      "Downloading yfinance-0.2.58-py2.py3-none-any.whl (113 kB)\n",
      "Downloading curl_cffi-0.10.0-cp39-abi3-manylinux_2_17_x86_64.manylinux2014_x86_64.whl (7.4 MB)\n",
      "\u001b[2K   \u001b[38;2;114;156;31m━━━━━━━━━━━━━━━━━━━━━━━━━━━━━━━━━━━━━━━━\u001b[0m \u001b[32m7.4/7.4 MB\u001b[0m \u001b[31m6.5 MB/s\u001b[0m eta \u001b[36m0:00:00\u001b[0m MB/s\u001b[0m eta \u001b[36m0:00:01\u001b[0m:01\u001b[0m\n",
      "\u001b[?25hInstalling collected packages: curl_cffi, yfinance\n",
      "  Attempting uninstall: yfinance\n",
      "    Found existing installation: yfinance 0.2.54\n",
      "    Uninstalling yfinance-0.2.54:\n",
      "      Successfully uninstalled yfinance-0.2.54\n",
      "Successfully installed curl_cffi-0.10.0 yfinance-0.2.58\n",
      "\n",
      "\u001b[1m[\u001b[0m\u001b[34;49mnotice\u001b[0m\u001b[1;39;49m]\u001b[0m\u001b[39;49m A new release of pip is available: \u001b[0m\u001b[31;49m25.0.1\u001b[0m\u001b[39;49m -> \u001b[0m\u001b[32;49m25.1.1\u001b[0m\n",
      "\u001b[1m[\u001b[0m\u001b[34;49mnotice\u001b[0m\u001b[1;39;49m]\u001b[0m\u001b[39;49m To update, run: \u001b[0m\u001b[32;49mpip install --upgrade pip\u001b[0m\n"
     ]
    }
   ],
   "source": [
    "!pip install --upgrade yfinance"
   ]
  },
  {
   "cell_type": "code",
   "execution_count": 5,
   "id": "bd47c8e5-091d-441c-8c69-a157d01f3d44",
   "metadata": {},
   "outputs": [
    {
     "name": "stderr",
     "output_type": "stream",
     "text": [
      "[autoreload of yfinance.data failed: Traceback (most recent call last):\n",
      "  File \"/home/oem/Documents/github/stock_production_agg/stkenv/lib/python3.12/site-packages/IPython/extensions/autoreload.py\", line 276, in check\n",
      "    superreload(m, reload, self.old_objects)\n",
      "  File \"/home/oem/Documents/github/stock_production_agg/stkenv/lib/python3.12/site-packages/IPython/extensions/autoreload.py\", line 500, in superreload\n",
      "    update_generic(old_obj, new_obj)\n",
      "  File \"/home/oem/Documents/github/stock_production_agg/stkenv/lib/python3.12/site-packages/IPython/extensions/autoreload.py\", line 397, in update_generic\n",
      "    update(a, b)\n",
      "  File \"/home/oem/Documents/github/stock_production_agg/stkenv/lib/python3.12/site-packages/IPython/extensions/autoreload.py\", line 365, in update_class\n",
      "    update_instances(old, new)\n",
      "  File \"/home/oem/Documents/github/stock_production_agg/stkenv/lib/python3.12/site-packages/IPython/extensions/autoreload.py\", line 323, in update_instances\n",
      "    object.__setattr__(ref, \"__class__\", new)\n",
      "TypeError: can't apply this __setattr__ to SingletonMeta object\n",
      "]\n"
     ]
    }
   ],
   "source": [
    "# !pip install -r requirements.txt"
   ]
  },
  {
   "cell_type": "code",
   "execution_count": 6,
   "id": "c06de9be-0833-499e-859f-19c3f351be06",
   "metadata": {},
   "outputs": [
    {
     "name": "stdout",
     "output_type": "stream",
     "text": [
      "The autoreload extension is already loaded. To reload it, use:\n",
      "  %reload_ext autoreload\n"
     ]
    }
   ],
   "source": [
    "import pandas as pd\n",
    "import numpy as np\n",
    "import yfinance as yf\n",
    "import matplotlib.pyplot as plt\n",
    "import logging\n",
    "import multiprocessing\n",
    "from datetime import datetime, timedelta\n",
    "\n",
    "from src import modules as f\n",
    "%load_ext autoreload\n",
    "%autoreload 2"
   ]
  },
  {
   "cell_type": "code",
   "execution_count": null,
   "id": "f11530b7-8037-42cf-8d26-e3030b661ebd",
   "metadata": {},
   "outputs": [],
   "source": [
    "# Download, load, extract, model...\n",
    "interval = '1wk'\n",
    "stock_set = f.download_interval_process(interval, 1)\n",
    "print(f'Stock set: \\n{stock_set}\\n')"
   ]
  },
  {
   "cell_type": "code",
   "execution_count": null,
   "id": "e07532a6-0b04-49bd-95f2-6061ee9e73e3",
   "metadata": {},
   "outputs": [],
   "source": [
    "f.make_table_features_process(stock_set, interval, 7)"
   ]
  },
  {
   "cell_type": "code",
   "execution_count": null,
   "id": "e8e4bf89-6ffd-4f60-bdb8-9a900e2ac7fc",
   "metadata": {},
   "outputs": [],
   "source": [
    "f.make_master_table(stock_set, interval)"
   ]
  },
  {
   "cell_type": "code",
   "execution_count": null,
   "id": "d30897b1-c9bd-4c46-903e-983ce47a66b8",
   "metadata": {
    "scrolled": true
   },
   "outputs": [],
   "source": [
    "f.xg_boost_model(interval, grid_search_on=True)"
   ]
  },
  {
   "cell_type": "code",
   "execution_count": 8,
   "id": "34a1c221-4de9-4792-bb9a-a24337cb849c",
   "metadata": {},
   "outputs": [
    {
     "name": "stdout",
     "output_type": "stream",
     "text": [
      "\n",
      "Model Prediction 1d NVDA:\n",
      "NVDA last price: 114.50\n",
      "Predicted Next 1d Movement: DOWN\n",
      "\n",
      "Model Prediction Probabilities:\n",
      "no_change (0): 0.3217\n",
      "up (1): 0.3243\n",
      "down (2): 0.3540\n",
      "\n",
      "Last Entry 1d NVDA Datetime Used for Prediction:\n",
      "NOTE: It's in or contains the full 1d time interval.\n",
      "EST: 2025-05-02 12:00:00 AM EDT-0400\n",
      "PDT: 2025-05-01 09:00:00 PM PDT-0700\n",
      "\n",
      "Correctly Predicted: 41\n",
      "Entries Predicted: 100\n",
      "Percent Correct: 0.41\n",
      "Kelly Criterion: 11.50%\n"
     ]
    }
   ],
   "source": [
    "symbol = 'nvda'.upper()\n",
    "interval = '1d'\n",
    "f.model_prospect(symbol, interval, build=False)\n",
    "df_val = f.model_validation(symbol, interval)\n",
    "correctly_predicted = df_val.dir_pred_match.sum()\n",
    "print(f'\\nCorrectly Predicted: {correctly_predicted}')\n",
    "entries_predicted = df_val.shape[0]\n",
    "print(f'Entries Predicted: {entries_predicted}')\n",
    "p = correctly_predicted / entries_predicted # percent correct\n",
    "print(f'Percent Correct: {p}')\n",
    "print(f'Kelly Criterion: {f.kelly_c(p=[p], l=1, g=2)[0]:.2%}')"
   ]
  },
  {
   "cell_type": "code",
   "execution_count": null,
   "id": "88d6bcdf",
   "metadata": {},
   "outputs": [],
   "source": []
  },
  {
   "cell_type": "code",
   "execution_count": null,
   "id": "16348be7-8927-4091-9a31-1c9a427b9830",
   "metadata": {},
   "outputs": [],
   "source": [
    "# !pip install pmdarima statsmodels prophet"
   ]
  },
  {
   "cell_type": "code",
   "execution_count": null,
   "id": "1cfb6f56-47ff-4e86-bf84-3744c6fa77e0",
   "metadata": {},
   "outputs": [],
   "source": [
    "import os\n",
    "import warnings\n",
    "warnings.filterwarnings('ignore')\n",
    "import numpy as np\n",
    "import pandas as pd\n",
    "import matplotlib.pyplot as plt\n",
    "from statsmodels.tsa.stattools import adfuller\n",
    "from statsmodels.tsa.seasonal import seasonal_decompose\n",
    "from statsmodels.tsa.arima.model import ARIMA\n",
    "from pmdarima.arima import auto_arima\n",
    "from sklearn.metrics import mean_squared_error, mean_absolute_error\n",
    "import math\n",
    "\n",
    "stock_symbol = 'NVDA'.upper()\n",
    "interval = '1d'\n",
    "f.download(stock_symbol, interval)\n",
    "stock_data = f.load_raw(stock_symbol, interval)\n",
    "stock_data"
   ]
  },
  {
   "cell_type": "code",
   "execution_count": null,
   "id": "6f377003-94a2-4366-bd56-ecb44077c311",
   "metadata": {},
   "outputs": [],
   "source": [
    "#plot close price\n",
    "plt.figure(figsize=(10,6))\n",
    "plt.grid(True)\n",
    "plt.xlabel('Date')\n",
    "plt.ylabel('Close Prices')\n",
    "plt.plot(stock_data['close'])\n",
    "plt.title(f'{stock_symbol} closing price')\n",
    "plt.show()"
   ]
  },
  {
   "cell_type": "code",
   "execution_count": null,
   "id": "2e710a4f-8a26-4ea7-bdfb-d4ebdb9c1cdd",
   "metadata": {},
   "outputs": [],
   "source": [
    "#Distribution of the dataset\n",
    "df_close = stock_data['close']\n",
    "df_close.plot(kind='kde')"
   ]
  },
  {
   "cell_type": "code",
   "execution_count": null,
   "id": "665cc7e3-f2ac-4221-8225-4d2b891d61f2",
   "metadata": {},
   "outputs": [],
   "source": [
    "#Test for staionarity\n",
    "def test_stationarity(timeseries):\n",
    "    #Determing rolling statistics\n",
    "    rolmean = timeseries.rolling(12).mean()\n",
    "    rolstd = timeseries.rolling(12).std()\n",
    "    #Plot rolling statistics:\n",
    "    plt.figure(figsize=(10,6))\n",
    "    plt.plot(timeseries, color='blue',label='Original')\n",
    "    plt.plot(rolmean, color='red', label='Rolling Mean')\n",
    "    plt.plot(rolstd, color='black', label = 'Rolling Std')\n",
    "    plt.legend(loc='best')\n",
    "    plt.title('Rolling Mean and Standard Deviation')\n",
    "    plt.show(block=False)\n",
    "    print(\"Results of dickey fuller test\")\n",
    "    adft = adfuller(timeseries,autolag='AIC')\n",
    "    # output for dft will give us without defining what the values are.\n",
    "    #hence we manually write what values does it explains using a for loop\n",
    "    output = pd.Series(adft[0:4],index=['Test Statistics','p-value','No. of lags used','Number of observations used'])\n",
    "    for key,values in adft[4].items():\n",
    "        output['critical value (%s)'%key] =  values\n",
    "    print(output)\n",
    "test_stationarity(df_close)"
   ]
  },
  {
   "cell_type": "code",
   "execution_count": null,
   "id": "9c47b2b8-98f0-4ed6-a056-567eda7db307",
   "metadata": {},
   "outputs": [],
   "source": [
    "#To separate the trend and the seasonality from a time series, \n",
    "# we can decompose the series using the following code.\n",
    "result = seasonal_decompose(df_close, model='multiplicative', period = 30)\n",
    "fig = plt.figure()  \n",
    "fig = result.plot()  \n",
    "fig.set_size_inches(16, 9)"
   ]
  },
  {
   "cell_type": "code",
   "execution_count": null,
   "id": "a7fba8fd-7821-43e8-a732-43a8743ffabb",
   "metadata": {},
   "outputs": [],
   "source": [
    "#if not stationary then eliminate trend\n",
    "#Eliminate trend\n",
    "from pylab import rcParams\n",
    "rcParams['figure.figsize'] = 10, 6\n",
    "df_log = np.log(df_close)\n",
    "moving_avg = df_log.rolling(12).mean()\n",
    "std_dev = df_log.rolling(12).std()\n",
    "plt.legend(loc='best')\n",
    "plt.title('Moving Average')\n",
    "plt.plot(std_dev, color =\"black\", label = \"Standard Deviation\")\n",
    "plt.plot(moving_avg, color=\"red\", label = \"Mean\")\n",
    "plt.legend()\n",
    "plt.show()"
   ]
  },
  {
   "cell_type": "code",
   "execution_count": null,
   "id": "3122e977-ffdd-4ebb-8396-c52fd28081cd",
   "metadata": {},
   "outputs": [],
   "source": [
    "#split data into train and training set\n",
    "train_data, test_data = df_log[3:int(len(df_log)*0.9)], df_log[int(len(df_log)*0.9):]\n",
    "plt.figure(figsize=(10,6))\n",
    "plt.grid(True)\n",
    "plt.xlabel('Dates')\n",
    "plt.ylabel('Closing Prices')\n",
    "plt.plot(df_log, 'green', label='Train data')\n",
    "plt.plot(test_data, 'blue', label='Test data')\n",
    "plt.legend()"
   ]
  },
  {
   "cell_type": "code",
   "execution_count": null,
   "id": "250cbcbb-6650-42dc-ae22-846fe637f8dd",
   "metadata": {},
   "outputs": [],
   "source": [
    "model_autoARIMA = auto_arima(train_data, start_p=0, start_q=0,\n",
    "                      test='adf',       # use adftest to find optimal 'd'\n",
    "                      max_p=3, max_q=3, # maximum p and q\n",
    "                      m=1,              # frequency of series\n",
    "                      d=None,           # let model determine 'd'\n",
    "                      seasonal=False,   # No Seasonality\n",
    "                      start_P=0, \n",
    "                      D=0, \n",
    "                      trace=True,\n",
    "                      error_action='ignore',  \n",
    "                      suppress_warnings=True, \n",
    "                      stepwise=True)\n",
    "print(model_autoARIMA.summary())\n",
    "model_autoARIMA.plot_diagnostics(figsize=(15,8))\n",
    "plt.show()"
   ]
  },
  {
   "cell_type": "code",
   "execution_count": null,
   "id": "86fb3c11-ec51-4bbf-9e5e-c2cbf75b0d1f",
   "metadata": {},
   "outputs": [],
   "source": [
    "# Ensure training data is tz-naive and has BusinessDay frequency\n",
    "train_data = train_data.copy()\n",
    "train_data.index = train_data.index.tz_localize(None)\n",
    "train_data = train_data.asfreq('B')\n",
    "\n",
    "# If your data are in log scale and you wish to forecast on that scale, use trend='t' (drift)\n",
    "model = ARIMA(train_data, order=(1,1,2), trend='t')\n",
    "fitted = model.fit()\n",
    "print(fitted.summary())"
   ]
  },
  {
   "cell_type": "code",
   "execution_count": null,
   "id": "13d487a9-117d-4dfb-99e4-ace92c9c7fd6",
   "metadata": {},
   "outputs": [],
   "source": [
    "# Set this flag: True if your model and data are in log scale; False if in level scale.\n",
    "log_data = True\n",
    "\n",
    "# ----- Prepare Training Data -----\n",
    "train_data = train_data.copy()\n",
    "train_data.index = train_data.index.tz_localize(None)\n",
    "# Force training data to have BusinessDay frequency.\n",
    "train_data = train_data.asfreq('B')  # Now train_data.index has frequency, e.g. \"<BusinessDay>\"\n",
    "\n",
    "# ----- Prepare Test Data -----\n",
    "freq = train_data.index.freq  # should be <BusinessDay>\n",
    "test_index = pd.date_range(\n",
    "    start=train_data.index[-1] + pd.Timedelta(days=1),\n",
    "    periods=len(test_data),\n",
    "    freq=freq\n",
    ")\n",
    "test_data = test_data.copy()\n",
    "test_data.index = test_index\n",
    "\n",
    "print(\"Training data last date:\", train_data.index[-1])\n",
    "print(\"Test data first date:\", test_data.index[0])\n",
    "assert test_data.index[0] > train_data.index[-1], \"Test data index does not extend training data!\"\n",
    "\n",
    "# ----- Update Model State -----\n",
    "fitted.model.data.orig_endog.index = train_data.index\n",
    "fitted.model.data.dates = train_data.index\n",
    "\n",
    "fitted_updated = fitted.append(test_data, refit=False)\n",
    "\n",
    "# ----- Forecast Simulation Using get_forecast -----\n",
    "forecast_steps = 321\n",
    "forecast_object = fitted_updated.get_forecast(steps=forecast_steps)\n",
    "fc_series = forecast_object.predicted_mean\n",
    "conf_int = forecast_object.conf_int(alpha=0.05)\n",
    "\n",
    "# Rename the CI columns (if necessary)\n",
    "conf_int.columns = ['lower', 'upper']\n",
    "\n",
    "# For debugging, print a summary of the CI values.\n",
    "print(\"CI summary:\\n\", conf_int.describe())\n",
    "\n",
    "# If the model is built on log-scale data, convert forecasts and intervals back to price levels.\n",
    "if log_data:\n",
    "    fc_series = np.exp(fc_series)\n",
    "    conf_int = np.exp(conf_int)\n",
    "    last_actual_value = np.exp(test_data.iloc[-1])\n",
    "else:\n",
    "    last_actual_value = test_data.iloc[-1]\n",
    "\n",
    "# Prepend the last observed test value so the forecast connects.\n",
    "fc_series_full = pd.concat([pd.Series([last_actual_value], index=[test_data.index[-1]]), fc_series])\n",
    "conf_int_full = pd.concat([\n",
    "    pd.DataFrame({\"lower\": [last_actual_value], \"upper\": [last_actual_value]}, index=[test_data.index[-1]]),\n",
    "    conf_int\n",
    "])\n",
    "\n",
    "# (Optional for debugging) – You could widen the CI band temporarily for visibility.\n",
    "# For example, multiply the difference by 3:\n",
    "# conf_int_full[\"upper\"] = fc_series_full + 3*(conf_int_full[\"upper\"] - fc_series_full)\n",
    "# conf_int_full[\"lower\"] = fc_series_full - 3*(fc_series_full - conf_int_full[\"lower\"])\n",
    "\n",
    "# ----- Plotting -----\n",
    "plt.figure(figsize=(10, 5), dpi=100)\n",
    "if log_data:\n",
    "    plt.plot(np.exp(train_data), label='Training Data', zorder=1)\n",
    "    plt.plot(np.exp(test_data), color='blue', label='Actual Stock Price', zorder=2)\n",
    "else:\n",
    "    plt.plot(train_data, label='Training Data', zorder=1)\n",
    "    plt.plot(test_data, color='blue', label='Actual Stock Price', zorder=2)\n",
    "\n",
    "# Fill the CI band.\n",
    "plt.fill_between(conf_int_full.index,\n",
    "                 conf_int_full[\"lower\"],\n",
    "                 conf_int_full[\"upper\"],\n",
    "                 color='lightgrey', alpha=0.5, label='95% CI', zorder=3)\n",
    "\n",
    "# Plot the forecast as a bold orange line.\n",
    "plt.plot(fc_series_full.index, fc_series_full,\n",
    "         color='orange', linewidth=3, label='Forecast', zorder=4)\n",
    "\n",
    "plt.title(f'{stock_symbol} Stock Price Prediction')\n",
    "plt.xlabel('Time')\n",
    "plt.ylabel(f'{stock_symbol} Stock Price')\n",
    "plt.legend(loc='upper left', fontsize=8)\n",
    "plt.show()\n"
   ]
  },
  {
   "cell_type": "code",
   "execution_count": null,
   "id": "1472744a-9dd2-463a-91f0-d1ce71100106",
   "metadata": {},
   "outputs": [],
   "source": []
  },
  {
   "cell_type": "code",
   "execution_count": null,
   "id": "810aab75-e3d0-4880-ae08-8b9b01bc5078",
   "metadata": {},
   "outputs": [],
   "source": []
  },
  {
   "cell_type": "code",
   "execution_count": null,
   "id": "c1587ace-39d3-4dd8-baac-69729d086bb7",
   "metadata": {},
   "outputs": [],
   "source": []
  }
 ],
 "metadata": {
  "kernelspec": {
   "display_name": "Python (stkenv)",
   "language": "python",
   "name": "stkenv"
  },
  "language_info": {
   "codemirror_mode": {
    "name": "ipython",
    "version": 3
   },
   "file_extension": ".py",
   "mimetype": "text/x-python",
   "name": "python",
   "nbconvert_exporter": "python",
   "pygments_lexer": "ipython3",
   "version": "3.12.3"
  }
 },
 "nbformat": 4,
 "nbformat_minor": 5
}
