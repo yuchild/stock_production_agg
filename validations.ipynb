{
 "cells": [
  {
   "cell_type": "code",
   "execution_count": 1,
   "id": "bd47c8e5-091d-441c-8c69-a157d01f3d44",
   "metadata": {},
   "outputs": [],
   "source": [
    "# !pip install -r requirements.txt"
   ]
  },
  {
   "cell_type": "code",
   "execution_count": 2,
   "id": "c06de9be-0833-499e-859f-19c3f351be06",
   "metadata": {},
   "outputs": [],
   "source": [
    "import pandas as pd\n",
    "import numpy as np\n",
    "import yfinance as yf\n",
    "import matplotlib.pyplot as plt\n",
    "import logging\n",
    "import multiprocessing\n",
    "from datetime import datetime, timedelta\n",
    "\n",
    "from src import modules as f\n",
    "%load_ext autoreload\n",
    "%autoreload 2"
   ]
  },
  {
   "cell_type": "code",
   "execution_count": 3,
   "id": "f11530b7-8037-42cf-8d26-e3030b661ebd",
   "metadata": {},
   "outputs": [],
   "source": [
    "stock_list = f.download_interval_process('1h', 1)"
   ]
  },
  {
   "cell_type": "code",
   "execution_count": 4,
   "id": "26da5549-d796-412d-a40a-2dab73dd132a",
   "metadata": {},
   "outputs": [
    {
     "data": {
      "text/plain": [
       "{'AAPL',\n",
       " 'ABBV',\n",
       " 'ABT',\n",
       " 'ACN',\n",
       " 'ADBE',\n",
       " 'AEP',\n",
       " 'AJG',\n",
       " 'AMGN',\n",
       " 'AMZN',\n",
       " 'APH',\n",
       " 'ATO',\n",
       " 'AVGO',\n",
       " 'AXP',\n",
       " 'BAC',\n",
       " 'BRK-B',\n",
       " 'BSX',\n",
       " 'CEG',\n",
       " 'CL',\n",
       " 'CMCSA',\n",
       " 'COP',\n",
       " 'COST',\n",
       " 'CRM',\n",
       " 'CSCO',\n",
       " 'CVX',\n",
       " 'D',\n",
       " 'DASH',\n",
       " 'DECK',\n",
       " 'DIS',\n",
       " 'DKNG',\n",
       " 'DUK',\n",
       " 'EOG',\n",
       " 'EXC',\n",
       " 'EXE',\n",
       " 'FCNCA',\n",
       " 'FWONK',\n",
       " 'GOOG',\n",
       " 'GOOGL',\n",
       " 'GS',\n",
       " 'HD',\n",
       " 'IBM',\n",
       " 'ISRG',\n",
       " 'JNJ',\n",
       " 'JPM',\n",
       " 'KMI',\n",
       " 'KO',\n",
       " 'LLY',\n",
       " 'LNG',\n",
       " 'MA',\n",
       " 'MDLZ',\n",
       " 'META',\n",
       " 'MO',\n",
       " 'MRK',\n",
       " 'MSFT',\n",
       " 'MSI',\n",
       " 'NEE',\n",
       " 'NFLX',\n",
       " 'NRG',\n",
       " 'NVDA',\n",
       " 'OKE',\n",
       " 'ORCL',\n",
       " 'PEP',\n",
       " 'PG',\n",
       " 'PGR',\n",
       " 'PLTR',\n",
       " 'PM',\n",
       " 'PSX',\n",
       " 'RCL',\n",
       " 'SLB',\n",
       " 'SO',\n",
       " 'SPGI',\n",
       " 'SRE',\n",
       " 'SW',\n",
       " 'T',\n",
       " 'TDG',\n",
       " 'TGT',\n",
       " 'TMO',\n",
       " 'TMUS',\n",
       " 'TPR',\n",
       " 'TSLA',\n",
       " 'TTWO',\n",
       " 'UNH',\n",
       " 'V',\n",
       " 'VST',\n",
       " 'VZ',\n",
       " 'WELL',\n",
       " 'WFC',\n",
       " 'WMB',\n",
       " 'WMT',\n",
       " 'WSM',\n",
       " 'XEL',\n",
       " 'XOM',\n",
       " '^VIX'}"
      ]
     },
     "execution_count": 4,
     "metadata": {},
     "output_type": "execute_result"
    }
   ],
   "source": [
    "stock_list"
   ]
  },
  {
   "cell_type": "code",
   "execution_count": 7,
   "id": "f48e7c68-727f-4f6d-962b-b75c3aa51d76",
   "metadata": {},
   "outputs": [],
   "source": [
    "stock_list = f.make_table_features_process('1h', 8)"
   ]
  },
  {
   "cell_type": "code",
   "execution_count": 8,
   "id": "1034624a-9f10-4bfd-9c3e-4c2cd27fa12a",
   "metadata": {},
   "outputs": [
    {
     "name": "stdout",
     "output_type": "stream",
     "text": [
      "Saved combined dataframe to: ./data_transformed/all_1h_model_df.pkl\n"
     ]
    }
   ],
   "source": [
    "f.make_master_table(stock_list, '1h')"
   ]
  },
  {
   "cell_type": "code",
   "execution_count": 9,
   "id": "1226e5b7-2570-4114-8d8c-0f923256adb6",
   "metadata": {},
   "outputs": [
    {
     "name": "stderr",
     "output_type": "stream",
     "text": [
      "/home/oem/Documents/github/stock_production_agg/stkenv/lib/python3.12/site-packages/xgboost/core.py:158: UserWarning: [00:22:49] WARNING: /workspace/src/learner.cc:740: \n",
      "Parameters: { \"use_label_encoder\" } are not used.\n",
      "\n",
      "  warnings.warn(smsg, UserWarning)\n"
     ]
    },
    {
     "name": "stdout",
     "output_type": "stream",
     "text": [
      "              precision    recall  f1-score   support\n",
      "\n",
      "           0       0.47      0.53      0.50     45982\n",
      "           1       0.46      0.44      0.45     45995\n",
      "           2       0.47      0.42      0.45     45989\n",
      "\n",
      "    accuracy                           0.47    137966\n",
      "   macro avg       0.47      0.47      0.47    137966\n",
      "weighted avg       0.47      0.47      0.47    137966\n",
      "\n",
      "\n",
      "Feature Importances (Descending):\n",
      "                    feature  importance\n",
      "57       cat__hour_of_day_9    0.188551\n",
      "63      cat__hour_of_day_15    0.094397\n",
      "64      cat__hour_of_day_16    0.063112\n",
      "65      cat__hour_of_day_17    0.060009\n",
      "53       cat__hour_of_day_5    0.032134\n",
      "..                      ...         ...\n",
      "69  cat__candle_cluster_1.0    0.001854\n",
      "73  cat__candle_cluster_5.0    0.001742\n",
      "71  cat__candle_cluster_3.0    0.001487\n",
      "3    cat__fast_sma_signal_1    0.000000\n",
      "1    cat__slow_sma_signal_1    0.000000\n",
      "\n",
      "[76 rows x 2 columns]\n",
      "\n",
      "Model saved at: ./models/xgboost_1h_model.pkl\n"
     ]
    }
   ],
   "source": [
    "f.xg_boost_model(interval='1h')"
   ]
  },
  {
   "cell_type": "code",
   "execution_count": null,
   "id": "34a1c221-4de9-4792-bb9a-a24337cb849c",
   "metadata": {},
   "outputs": [],
   "source": []
  }
 ],
 "metadata": {
  "kernelspec": {
   "display_name": "Python (stkenv)",
   "language": "python",
   "name": "stkenv"
  },
  "language_info": {
   "codemirror_mode": {
    "name": "ipython",
    "version": 3
   },
   "file_extension": ".py",
   "mimetype": "text/x-python",
   "name": "python",
   "nbconvert_exporter": "python",
   "pygments_lexer": "ipython3",
   "version": "3.12.3"
  }
 },
 "nbformat": 4,
 "nbformat_minor": 5
}
