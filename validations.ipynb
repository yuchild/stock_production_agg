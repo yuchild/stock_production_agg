{
 "cells": [
  {
   "cell_type": "code",
   "execution_count": 1,
   "id": "cee65a2e-f12f-45eb-af0e-6afe583badfe",
   "metadata": {},
   "outputs": [],
   "source": [
    "from src import modules as f\n",
    "%load_ext autoreload\n",
    "%autoreload 2"
   ]
  },
  {
   "cell_type": "code",
   "execution_count": 2,
   "id": "bd47c8e5-091d-441c-8c69-a157d01f3d44",
   "metadata": {},
   "outputs": [],
   "source": [
    "# !pip install -r requirements.txt"
   ]
  },
  {
   "cell_type": "code",
   "execution_count": 3,
   "id": "c06de9be-0833-499e-859f-19c3f351be06",
   "metadata": {},
   "outputs": [],
   "source": [
    "import pandas as pd\n",
    "import numpy as np\n",
    "import yfinance as yf\n",
    "import matplotlib.pyplot as plt\n",
    "import logging\n",
    "import multiprocessing\n",
    "from datetime import datetime, timedelta"
   ]
  },
  {
   "cell_type": "code",
   "execution_count": 4,
   "id": "b291dc22-8e17-4113-934a-aad7a7a0888c",
   "metadata": {},
   "outputs": [
    {
     "data": {
      "text/plain": [
       "{'AAPL', 'ACN', 'AVGO', 'CRM', 'CSCO', 'IBM', 'MSFT', 'NOW', 'NVDA', 'ORCL'}"
      ]
     },
     "execution_count": 4,
     "metadata": {},
     "output_type": "execute_result"
    }
   ],
   "source": [
    "spy = yf.Ticker('XLK')\n",
    "spy_holdings_df = spy.get_funds_data().top_holdings\n",
    "set(spy_holdings_df.index)"
   ]
  },
  {
   "cell_type": "code",
   "execution_count": 5,
   "id": "580d448e-b73f-4c22-87e8-57be34ef94fc",
   "metadata": {},
   "outputs": [
    {
     "data": {
      "text/plain": [
       "{'AAPL',\n",
       " 'ABBV',\n",
       " 'ABT',\n",
       " 'ACN',\n",
       " 'AEP',\n",
       " 'AJG',\n",
       " 'AMGN',\n",
       " 'AMZN',\n",
       " 'APH',\n",
       " 'ATO',\n",
       " 'AVGO',\n",
       " 'AXP',\n",
       " 'BAC',\n",
       " 'BRK-B',\n",
       " 'BSX',\n",
       " 'CEG',\n",
       " 'CL',\n",
       " 'CMCSA',\n",
       " 'COP',\n",
       " 'COST',\n",
       " 'CRM',\n",
       " 'CSCO',\n",
       " 'CVX',\n",
       " 'D',\n",
       " 'DASH',\n",
       " 'DECK',\n",
       " 'DIS',\n",
       " 'DUK',\n",
       " 'EOG',\n",
       " 'EXC',\n",
       " 'EXE',\n",
       " 'FCNCA',\n",
       " 'GOOG',\n",
       " 'GOOGL',\n",
       " 'GS',\n",
       " 'HD',\n",
       " 'IBM',\n",
       " 'ISRG',\n",
       " 'JNJ',\n",
       " 'JPM',\n",
       " 'KMI',\n",
       " 'KO',\n",
       " 'LLY',\n",
       " 'LNG',\n",
       " 'MA',\n",
       " 'MDLZ',\n",
       " 'META',\n",
       " 'MO',\n",
       " 'MPC',\n",
       " 'MRK',\n",
       " 'MS',\n",
       " 'MSFT',\n",
       " 'MSI',\n",
       " 'NEE',\n",
       " 'NFLX',\n",
       " 'NOW',\n",
       " 'NRG',\n",
       " 'NTRA',\n",
       " 'NVDA',\n",
       " 'OKE',\n",
       " 'ORCL',\n",
       " 'PCAR',\n",
       " 'PEG',\n",
       " 'PEP',\n",
       " 'PG',\n",
       " 'PLTR',\n",
       " 'PM',\n",
       " 'PSTG',\n",
       " 'PTC',\n",
       " 'RCL',\n",
       " 'SLB',\n",
       " 'SO',\n",
       " 'SPGI',\n",
       " 'SRE',\n",
       " 'SW',\n",
       " 'T',\n",
       " 'TDG',\n",
       " 'TGT',\n",
       " 'TMO',\n",
       " 'TMUS',\n",
       " 'TSLA',\n",
       " 'TTD',\n",
       " 'UNH',\n",
       " 'V',\n",
       " 'VST',\n",
       " 'VZ',\n",
       " 'WELL',\n",
       " 'WFC',\n",
       " 'WMB',\n",
       " 'WMT',\n",
       " 'WSM',\n",
       " 'XOM'}"
      ]
     },
     "execution_count": 5,
     "metadata": {},
     "output_type": "execute_result"
    }
   ],
   "source": [
    "stock_set = f.etf_top_stocks(*['voo', 'vgt', 'vde', 'vpu', 'vdc', 'vfh', 'vht', 'vym', 'vox', 'vb', 'vo', 'vv', 'vug', 'vtv'])\n",
    "stock_set"
   ]
  },
  {
   "cell_type": "code",
   "execution_count": 8,
   "id": "54de41f6-28ea-40bb-832c-c9ac49260cee",
   "metadata": {},
   "outputs": [
    {
     "name": "stderr",
     "output_type": "stream",
     "text": [
      "Failed to get ticker 'OKE' reason: ('Connection aborted.', RemoteDisconnected('Remote end closed connection without response'))\n",
      "$XOM: possibly delisted; no price data found  (1d 1926-03-21 -> 2025-02-24)\n",
      "$VZ: possibly delisted; no price data found  (1d 1926-03-21 -> 2025-02-24)\n",
      "$NTRA: possibly delisted; no price data found  (1d 1926-03-21 -> 2025-02-24)\n",
      "$DECK: possibly delisted; no price data found  (1d 1926-03-21 -> 2025-02-24)\n",
      "$PSTG: possibly delisted; no price data found  (1d 1926-03-21 -> 2025-02-24)\n",
      "$LNG: possibly delisted; no price data found  (1d 1926-03-21 -> 2025-02-24)\n",
      "$ABT: possibly delisted; no price data found  (1d 1926-03-21 -> 2025-02-24)\n",
      "$OKE: possibly delisted; no timezone found\n"
     ]
    }
   ],
   "source": [
    "f.download_interval_all('1d', 8)"
   ]
  },
  {
   "cell_type": "code",
   "execution_count": null,
   "id": "30980228-5a64-47b1-84ae-9a4a4efe5a70",
   "metadata": {},
   "outputs": [],
   "source": []
  }
 ],
 "metadata": {
  "kernelspec": {
   "display_name": "Python (stkenv)",
   "language": "python",
   "name": "stkenv"
  },
  "language_info": {
   "codemirror_mode": {
    "name": "ipython",
    "version": 3
   },
   "file_extension": ".py",
   "mimetype": "text/x-python",
   "name": "python",
   "nbconvert_exporter": "python",
   "pygments_lexer": "ipython3",
   "version": "3.12.3"
  }
 },
 "nbformat": 4,
 "nbformat_minor": 5
}
