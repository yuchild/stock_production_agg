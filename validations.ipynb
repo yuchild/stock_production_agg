{
 "cells": [
  {
   "cell_type": "code",
   "execution_count": 1,
   "id": "bd47c8e5-091d-441c-8c69-a157d01f3d44",
   "metadata": {},
   "outputs": [],
   "source": [
    "# !pip install -r requirements.txt"
   ]
  },
  {
   "cell_type": "code",
   "execution_count": 2,
   "id": "c06de9be-0833-499e-859f-19c3f351be06",
   "metadata": {},
   "outputs": [],
   "source": [
    "import pandas as pd\n",
    "import numpy as np\n",
    "import yfinance as yf\n",
    "import matplotlib.pyplot as plt\n",
    "import logging\n",
    "import multiprocessing\n",
    "from datetime import datetime, timedelta\n",
    "\n",
    "from src import modules as f\n",
    "%load_ext autoreload\n",
    "%autoreload 2"
   ]
  },
  {
   "cell_type": "code",
   "execution_count": 12,
   "id": "f11530b7-8037-42cf-8d26-e3030b661ebd",
   "metadata": {},
   "outputs": [
    {
     "name": "stdout",
     "output_type": "stream",
     "text": [
      "Stock set: \n",
      "{'CRM', 'LNG', 'DKNG', 'NEE', 'EOG', 'MDLZ', 'AMGN', 'ABT', 'PGR', 'APH', 'WFC', 'IBM', 'RCL', 'ADBE', 'CMCSA', 'ISRG', 'CL', 'PM', 'GS', 'NRG', 'MSFT', 'PSX', 'CVX', 'VZ', 'AEP', 'AAPL', 'TMO', 'NFLX', 'XOM', 'BRK-B', 'SO', 'AVGO', 'GOOGL', 'SLB', 'SRE', 'WELL', 'PEP', 'MA', 'HD', 'AMZN', 'ORCL', 'LLY', 'FWONK', 'BSX', 'COP', 'T', 'SPGI', 'AXP', 'EXE', 'OKE', 'V', 'UNH', 'PLTR', 'GOOG', 'D', 'XEL', 'ABBV', 'TSLA', 'SW', 'KO', 'MRK', 'MO', 'WSM', 'TGT', 'WMB', 'MSI', 'DUK', 'ACN', 'WMT', 'ATO', 'CEG', 'DIS', 'EXC', 'VST', 'AJG', 'NVDA', 'COST', 'CSCO', 'JNJ', 'TTWO', 'META', 'JPM', 'TDG', 'FCNCA', 'PG', 'KMI', 'TPR', '^VIX', 'TMUS', 'BAC', 'DECK', 'DASH'}\n",
      "\n"
     ]
    }
   ],
   "source": [
    "# Download, load, extract, model...\n",
    "interval = '1d'\n",
    "stock_set = f.download_interval_process(interval, 1)\n",
    "print(f'Stock set: \\n{stock_set}\\n')"
   ]
  },
  {
   "cell_type": "code",
   "execution_count": null,
   "id": "e07532a6-0b04-49bd-95f2-6061ee9e73e3",
   "metadata": {},
   "outputs": [],
   "source": [
    "f.make_table_features_process(stock_set, interval, 8)"
   ]
  },
  {
   "cell_type": "code",
   "execution_count": null,
   "id": "cd3b2af8-495c-48b7-894f-8d7842e1b519",
   "metadata": {},
   "outputs": [],
   "source": [
    "f.make_master_table(stock_set, interval)"
   ]
  },
  {
   "cell_type": "code",
   "execution_count": null,
   "id": "6217b6c2-5e9d-468d-89b2-52643577b161",
   "metadata": {
    "scrolled": true
   },
   "outputs": [],
   "source": [
    "f.xg_boost_model(interval='1d', grid_search_on=True)"
   ]
  },
  {
   "cell_type": "code",
   "execution_count": 17,
   "id": "34a1c221-4de9-4792-bb9a-a24337cb849c",
   "metadata": {},
   "outputs": [
    {
     "name": "stdout",
     "output_type": "stream",
     "text": [
      "\n",
      "Model Prediction 1d AXP:\n",
      "Predicted Next 1d Movement: NO_CHANGE\n",
      "\n",
      "Model Prediction Probabilities:\n",
      "no_change (0): 0.3639\n",
      "up (1): 0.3305\n",
      "down (2): 0.3056\n",
      "\n",
      "Last Entry 1d AXP Datetime Used for Prediction:\n",
      "NOTE: It's in or contains the full 1d time interval.\n",
      "EST: 2025-01-16 12:00:00 AM EST-0500\n",
      "PDT: 2025-01-15 09:00:00 PM PST-0800\n",
      "\n",
      "Correctly Predicted: 30\n",
      "Entries Predicted: 50\n",
      "Percent Correct: 0.6\n"
     ]
    }
   ],
   "source": [
    "symbol = 'AXP'\n",
    "interval = '1d'\n",
    "f.model_prospect(symbol, interval)\n",
    "df_val = f.model_validation(symbol, interval)\n",
    "correctly_predicted = df_val.dir_pred_match.sum()\n",
    "print(f'\\nCorrectly Predicted: {correctly_predicted}')\n",
    "entries_predicted = df_val.shape[0]\n",
    "print(f'Entries Predicted: {entries_predicted}')\n",
    "print(f'Percent Correct: {correctly_predicted / entries_predicted}')"
   ]
  },
  {
   "cell_type": "code",
   "execution_count": null,
   "id": "1cfb6f56-47ff-4e86-bf84-3744c6fa77e0",
   "metadata": {},
   "outputs": [],
   "source": []
  },
  {
   "cell_type": "code",
   "execution_count": null,
   "id": "6f377003-94a2-4366-bd56-ecb44077c311",
   "metadata": {},
   "outputs": [],
   "source": []
  }
 ],
 "metadata": {
  "kernelspec": {
   "display_name": "Python (stkenv)",
   "language": "python",
   "name": "stkenv"
  },
  "language_info": {
   "codemirror_mode": {
    "name": "ipython",
    "version": 3
   },
   "file_extension": ".py",
   "mimetype": "text/x-python",
   "name": "python",
   "nbconvert_exporter": "python",
   "pygments_lexer": "ipython3",
   "version": "3.12.3"
  }
 },
 "nbformat": 4,
 "nbformat_minor": 5
}
