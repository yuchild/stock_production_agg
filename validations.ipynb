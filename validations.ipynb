{
 "cells": [
  {
   "cell_type": "code",
   "execution_count": 1,
   "id": "bd47c8e5-091d-441c-8c69-a157d01f3d44",
   "metadata": {},
   "outputs": [],
   "source": [
    "# !pip install -r requirements.txt"
   ]
  },
  {
   "cell_type": "code",
   "execution_count": 2,
   "id": "c06de9be-0833-499e-859f-19c3f351be06",
   "metadata": {},
   "outputs": [],
   "source": [
    "import pandas as pd\n",
    "import numpy as np\n",
    "import yfinance as yf\n",
    "import matplotlib.pyplot as plt\n",
    "import logging\n",
    "import multiprocessing\n",
    "from datetime import datetime, timedelta\n",
    "\n",
    "from src import modules as f\n",
    "%load_ext autoreload\n",
    "%autoreload 2"
   ]
  },
  {
   "cell_type": "code",
   "execution_count": 3,
   "id": "f11530b7-8037-42cf-8d26-e3030b661ebd",
   "metadata": {},
   "outputs": [
    {
     "name": "stdout",
     "output_type": "stream",
     "text": [
      "Stock set: \n",
      "{'WELL', 'CMCSA', 'NVDA', 'BAC', 'XEL', 'UNH', 'AEP', 'CSCO', 'NFLX', 'RCL', 'AJG', 'GOOGL', 'APH', 'ATO', 'PLTR', 'KMI', 'LNG', 'XOM', 'IBM', 'JPM', 'AAPL', 'JNJ', 'FCNCA', 'FWONK', 'WMB', 'WSM', 'NRG', 'MSI', 'DASH', 'HD', 'ACN', 'MSFT', 'ISRG', 'LLY', 'EXE', 'D', 'WMT', 'TGT', '^VIX', 'MRK', 'ABBV', 'AMGN', 'KO', 'OKE', 'EXC', 'CEG', 'BRK-B', 'AVGO', 'COP', 'MO', 'ORCL', 'DUK', 'SRE', 'COST', 'TDG', 'PGR', 'SLB', 'PG', 'CL', 'TPR', 'CVX', 'TMUS', 'ADBE', 'AXP', 'PSX', 'TSLA', 'MA', 'VZ', 'META', 'VST', 'GOOG', 'NEE', 'DIS', 'ABT', 'T', 'MDLZ', 'DKNG', 'DECK', 'SO', 'SPGI', 'PEP', 'WFC', 'EOG', 'PM', 'BSX', 'TMO', 'TTWO', 'V', 'CRM', 'GS', 'AMZN', 'SW'}\n",
      "\n"
     ]
    }
   ],
   "source": [
    "# Download, load, extract, model...\n",
    "interval = '1d'\n",
    "stock_set = f.download_interval_process(interval, 1)\n",
    "print(f'Stock set: \\n{stock_set}\\n')"
   ]
  },
  {
   "cell_type": "code",
   "execution_count": 4,
   "id": "e07532a6-0b04-49bd-95f2-6061ee9e73e3",
   "metadata": {},
   "outputs": [],
   "source": [
    "f.make_table_features_process(stock_set, interval, 8)"
   ]
  },
  {
   "cell_type": "code",
   "execution_count": 5,
   "id": "cd3b2af8-495c-48b7-894f-8d7842e1b519",
   "metadata": {},
   "outputs": [
    {
     "name": "stdout",
     "output_type": "stream",
     "text": [
      "Saved combined dataframe to: ./data_transformed/all_1d_model_df.pkl\n"
     ]
    }
   ],
   "source": [
    "f.make_master_table(stock_set, interval)"
   ]
  },
  {
   "cell_type": "code",
   "execution_count": 6,
   "id": "6217b6c2-5e9d-468d-89b2-52643577b161",
   "metadata": {
    "scrolled": true
   },
   "outputs": [
    {
     "name": "stdout",
     "output_type": "stream",
     "text": [
      "Best parameters: {'classifier__learning_rate': 0.1, 'classifier__max_depth': 5, 'classifier__n_estimators': 200, 'classifier__reg_alpha': 0.0, 'classifier__reg_lambda': 1.5, 'feature_selection__threshold': 0.005}\n",
      "              precision    recall  f1-score   support\n",
      "\n",
      "           0       0.38      0.40      0.39     55500\n",
      "           1       0.39      0.41      0.40     55430\n",
      "           2       0.40      0.36      0.38     55424\n",
      "\n",
      "    accuracy                           0.39    166354\n",
      "   macro avg       0.39      0.39      0.39    166354\n",
      "weighted avg       0.39      0.39      0.39    166354\n",
      "\n",
      "\n",
      "Feature Importances (Descending):\n",
      "                   feature  importance\n",
      "17     cat__day_of_month_4    0.031277\n",
      "40    cat__day_of_month_27    0.028218\n",
      "36    cat__day_of_month_23    0.027062\n",
      "21     cat__day_of_month_8    0.026941\n",
      "2     cat__month_of_year_1    0.025555\n",
      "37    cat__day_of_month_24    0.025341\n",
      "13   cat__month_of_year_12    0.024583\n",
      "31    cat__day_of_month_18    0.024489\n",
      "34    cat__day_of_month_21    0.024226\n",
      "39    cat__day_of_month_26    0.024106\n",
      "12   cat__month_of_year_11    0.024087\n",
      "26    cat__day_of_month_13    0.024057\n",
      "19     cat__day_of_month_6    0.023650\n",
      "25    cat__day_of_month_12    0.023471\n",
      "8     cat__month_of_year_7    0.022949\n",
      "4     cat__month_of_year_3    0.022905\n",
      "5     cat__month_of_year_4    0.022805\n",
      "43    cat__day_of_month_30    0.022588\n",
      "11   cat__month_of_year_10    0.022474\n",
      "9     cat__month_of_year_8    0.022391\n",
      "44    cat__day_of_month_31    0.021774\n",
      "3     cat__month_of_year_2    0.021232\n",
      "30    cat__day_of_month_17    0.020331\n",
      "23    cat__day_of_month_10    0.020142\n",
      "7     cat__month_of_year_6    0.019838\n",
      "20     cat__day_of_month_7    0.019777\n",
      "10    cat__month_of_year_9    0.018992\n",
      "6     cat__month_of_year_5    0.018624\n",
      "35    cat__day_of_month_22    0.018572\n",
      "29    cat__day_of_month_16    0.018134\n",
      "45      cat__day_of_week_0    0.018039\n",
      "46      cat__day_of_week_1    0.017932\n",
      "47      cat__day_of_week_2    0.017431\n",
      "48      cat__day_of_week_3    0.017115\n",
      "42    cat__day_of_month_29    0.016991\n",
      "41    cat__day_of_month_28    0.016990\n",
      "15     cat__day_of_month_2    0.016817\n",
      "49      cat__day_of_week_4    0.016759\n",
      "33    cat__day_of_month_20    0.016442\n",
      "32    cat__day_of_month_19    0.016435\n",
      "0   cat__slow_sma_signal_0    0.016134\n",
      "24    cat__day_of_month_11    0.015789\n",
      "16     cat__day_of_month_3    0.015483\n",
      "22     cat__day_of_month_9    0.015189\n",
      "28    cat__day_of_month_15    0.015170\n",
      "18     cat__day_of_month_5    0.013279\n",
      "27    cat__day_of_month_14    0.012692\n",
      "1   cat__fast_sma_signal_0    0.012425\n",
      "14     cat__day_of_month_1    0.011887\n",
      "38    cat__day_of_month_25    0.010412\n",
      "\n",
      "Model saved at: ./models/xgboost_1d_model.pkl\n"
     ]
    }
   ],
   "source": [
    "f.xg_boost_model(interval='1d', grid_search_on=True)"
   ]
  },
  {
   "cell_type": "code",
   "execution_count": 7,
   "id": "34a1c221-4de9-4792-bb9a-a24337cb849c",
   "metadata": {},
   "outputs": [
    {
     "name": "stdout",
     "output_type": "stream",
     "text": [
      "\n",
      "Model Prediction 1d TSLA:\n",
      "Predicted Next 1d Movement: DOWN\n",
      "\n",
      "Model Prediction Probabilities:\n",
      "no_change (0): 0.2796\n",
      "up (1): 0.3470\n",
      "down (2): 0.3734\n",
      "\n",
      "Last Entry 1d TSLA Datetime Used for Prediction:\n",
      "NOTE: It's in or contains the full 1d time interval.\n",
      "EST: 2025-01-23 12:00:00 AM EST-0500\n",
      "PDT: 2025-01-22 09:00:00 PM PST-0800\n",
      "\n",
      "Correctly Predicted: 13\n",
      "Entries Predicted: 50\n",
      "Percent Correct: 0.26\n"
     ]
    }
   ],
   "source": [
    "symbol = 'TSLA'.upper()\n",
    "interval = '1d'\n",
    "f.download(symbol='^VIX', interval=interval)\n",
    "f.model_prospect(symbol, interval)\n",
    "df_val = f.model_validation(symbol, interval)\n",
    "correctly_predicted = df_val.dir_pred_match.sum()\n",
    "print(f'\\nCorrectly Predicted: {correctly_predicted}')\n",
    "entries_predicted = df_val.shape[0]\n",
    "print(f'Entries Predicted: {entries_predicted}')\n",
    "print(f'Percent Correct: {correctly_predicted / entries_predicted}')"
   ]
  },
  {
   "cell_type": "code",
   "execution_count": null,
   "id": "1cfb6f56-47ff-4e86-bf84-3744c6fa77e0",
   "metadata": {},
   "outputs": [],
   "source": []
  },
  {
   "cell_type": "code",
   "execution_count": null,
   "id": "6f377003-94a2-4366-bd56-ecb44077c311",
   "metadata": {},
   "outputs": [],
   "source": []
  }
 ],
 "metadata": {
  "kernelspec": {
   "display_name": "Python (stkenv)",
   "language": "python",
   "name": "stkenv"
  },
  "language_info": {
   "codemirror_mode": {
    "name": "ipython",
    "version": 3
   },
   "file_extension": ".py",
   "mimetype": "text/x-python",
   "name": "python",
   "nbconvert_exporter": "python",
   "pygments_lexer": "ipython3",
   "version": "3.12.3"
  }
 },
 "nbformat": 4,
 "nbformat_minor": 5
}
