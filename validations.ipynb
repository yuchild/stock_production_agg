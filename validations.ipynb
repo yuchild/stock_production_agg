{
 "cells": [
  {
   "cell_type": "code",
   "execution_count": 1,
   "id": "bd47c8e5-091d-441c-8c69-a157d01f3d44",
   "metadata": {},
   "outputs": [],
   "source": [
    "# !pip install -r requirements.txt"
   ]
  },
  {
   "cell_type": "code",
   "execution_count": 2,
   "id": "c06de9be-0833-499e-859f-19c3f351be06",
   "metadata": {},
   "outputs": [],
   "source": [
    "import pandas as pd\n",
    "import numpy as np\n",
    "import yfinance as yf\n",
    "import matplotlib.pyplot as plt\n",
    "import logging\n",
    "import multiprocessing\n",
    "from datetime import datetime, timedelta\n",
    "\n",
    "from src import modules as f\n",
    "%load_ext autoreload\n",
    "%autoreload 2"
   ]
  },
  {
   "cell_type": "code",
   "execution_count": null,
   "id": "f11530b7-8037-42cf-8d26-e3030b661ebd",
   "metadata": {},
   "outputs": [],
   "source": [
    "# Download, load, extract, model...\n",
    "interval = '1d'\n",
    "stock_set = f.download_interval_process(interval, 1)\n",
    "print(f'Stock set: \\n{stock_set}\\n')"
   ]
  },
  {
   "cell_type": "code",
   "execution_count": null,
   "id": "e07532a6-0b04-49bd-95f2-6061ee9e73e3",
   "metadata": {},
   "outputs": [],
   "source": [
    "f.make_table_features_process(stock_set, interval, 8)"
   ]
  },
  {
   "cell_type": "code",
   "execution_count": null,
   "id": "cd3b2af8-495c-48b7-894f-8d7842e1b519",
   "metadata": {},
   "outputs": [],
   "source": [
    "f.make_master_table(stock_set, interval)"
   ]
  },
  {
   "cell_type": "code",
   "execution_count": 5,
   "id": "6217b6c2-5e9d-468d-89b2-52643577b161",
   "metadata": {
    "scrolled": true
   },
   "outputs": [
    {
     "name": "stdout",
     "output_type": "stream",
     "text": [
      "Best parameters: {'classifier__learning_rate': 0.1, 'classifier__max_depth': 5, 'classifier__n_estimators': 200, 'classifier__reg_alpha': 0.0, 'classifier__reg_lambda': 1.5, 'feature_selection__threshold': 0.005}\n",
      "              precision    recall  f1-score   support\n",
      "\n",
      "           0       0.38      0.40      0.39     55461\n",
      "           1       0.40      0.41      0.40     55385\n",
      "           2       0.40      0.36      0.38     55416\n",
      "\n",
      "    accuracy                           0.39    166262\n",
      "   macro avg       0.39      0.39      0.39    166262\n",
      "weighted avg       0.39      0.39      0.39    166262\n",
      "\n",
      "\n",
      "Feature Importances (Descending):\n",
      "                   feature  importance\n",
      "36    cat__day_of_month_23    0.032063\n",
      "17     cat__day_of_month_4    0.030125\n",
      "37    cat__day_of_month_24    0.028523\n",
      "40    cat__day_of_month_27    0.027655\n",
      "12   cat__month_of_year_11    0.027535\n",
      "39    cat__day_of_month_26    0.024619\n",
      "19     cat__day_of_month_6    0.024550\n",
      "23    cat__day_of_month_10    0.024295\n",
      "21     cat__day_of_month_8    0.024220\n",
      "2     cat__month_of_year_1    0.024017\n",
      "34    cat__day_of_month_21    0.023626\n",
      "13   cat__month_of_year_12    0.023597\n",
      "30    cat__day_of_month_17    0.023132\n",
      "43    cat__day_of_month_30    0.022615\n",
      "4     cat__month_of_year_3    0.022337\n",
      "5     cat__month_of_year_4    0.022300\n",
      "26    cat__day_of_month_13    0.022232\n",
      "11   cat__month_of_year_10    0.022059\n",
      "33    cat__day_of_month_20    0.021671\n",
      "6     cat__month_of_year_5    0.021381\n",
      "35    cat__day_of_month_22    0.020773\n",
      "9     cat__month_of_year_8    0.020514\n",
      "31    cat__day_of_month_18    0.020498\n",
      "44    cat__day_of_month_31    0.020198\n",
      "25    cat__day_of_month_12    0.020066\n",
      "8     cat__month_of_year_7    0.020005\n",
      "3     cat__month_of_year_2    0.019576\n",
      "20     cat__day_of_month_7    0.019328\n",
      "10    cat__month_of_year_9    0.018979\n",
      "22     cat__day_of_month_9    0.018694\n",
      "48      cat__day_of_week_3    0.018565\n",
      "32    cat__day_of_month_19    0.018090\n",
      "7     cat__month_of_year_6    0.017946\n",
      "49      cat__day_of_week_4    0.017624\n",
      "46      cat__day_of_week_1    0.017574\n",
      "45      cat__day_of_week_0    0.017342\n",
      "29    cat__day_of_month_16    0.017287\n",
      "47      cat__day_of_week_2    0.016978\n",
      "42    cat__day_of_month_29    0.016710\n",
      "0   cat__slow_sma_signal_0    0.016695\n",
      "41    cat__day_of_month_28    0.015977\n",
      "18     cat__day_of_month_5    0.014997\n",
      "15     cat__day_of_month_2    0.014631\n",
      "16     cat__day_of_month_3    0.014238\n",
      "14     cat__day_of_month_1    0.013649\n",
      "38    cat__day_of_month_25    0.013611\n",
      "28    cat__day_of_month_15    0.012752\n",
      "24    cat__day_of_month_11    0.012444\n",
      "1   cat__fast_sma_signal_0    0.011972\n",
      "27    cat__day_of_month_14    0.009735\n",
      "\n",
      "Model saved at: ./models/xgboost_1d_model.pkl\n"
     ]
    }
   ],
   "source": [
    "f.xg_boost_model(interval='1d', grid_search_on=True)"
   ]
  },
  {
   "cell_type": "code",
   "execution_count": 48,
   "id": "34a1c221-4de9-4792-bb9a-a24337cb849c",
   "metadata": {},
   "outputs": [
    {
     "name": "stdout",
     "output_type": "stream",
     "text": [
      "\n",
      "Model Prediction 1d APH:\n",
      "Predicted Next 1d Movement: UP\n",
      "\n",
      "Model Prediction Probabilities:\n",
      "no_change (0): 0.3036\n",
      "up (1): 0.3922\n",
      "down (2): 0.3043\n",
      "\n",
      "Last Entry 1d APH Datetime Used for Prediction:\n",
      "NOTE: It's in or contains the full 1d time interval.\n",
      "EST: 2025-01-15 12:00:00 AM EST-0500\n",
      "PDT: 2025-01-14 09:00:00 PM PST-0800\n",
      "\n",
      "Correctly Predicted: 27\n",
      "Entries Predicted: 50\n",
      "Percent Correct: 0.54\n"
     ]
    }
   ],
   "source": [
    "symbol = 'APH'\n",
    "interval = '1d'\n",
    "f.model_prospect(symbol, interval)\n",
    "df_val = f.model_validation(symbol, interval)\n",
    "correctly_predicted = df_val.dir_pred_match.sum()\n",
    "print(f'\\nCorrectly Predicted: {correctly_predicted}')\n",
    "entries_predicted = df_val.shape[0]\n",
    "print(f'Entries Predicted: {entries_predicted}')\n",
    "print(f'Percent Correct: {correctly_predicted / entries_predicted}')"
   ]
  },
  {
   "cell_type": "code",
   "execution_count": null,
   "id": "1cfb6f56-47ff-4e86-bf84-3744c6fa77e0",
   "metadata": {},
   "outputs": [],
   "source": []
  },
  {
   "cell_type": "code",
   "execution_count": null,
   "id": "6f377003-94a2-4366-bd56-ecb44077c311",
   "metadata": {},
   "outputs": [],
   "source": []
  }
 ],
 "metadata": {
  "kernelspec": {
   "display_name": "Python (stkenv)",
   "language": "python",
   "name": "stkenv"
  },
  "language_info": {
   "codemirror_mode": {
    "name": "ipython",
    "version": 3
   },
   "file_extension": ".py",
   "mimetype": "text/x-python",
   "name": "python",
   "nbconvert_exporter": "python",
   "pygments_lexer": "ipython3",
   "version": "3.12.3"
  }
 },
 "nbformat": 4,
 "nbformat_minor": 5
}
