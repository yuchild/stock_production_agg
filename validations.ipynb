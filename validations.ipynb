{
 "cells": [
  {
   "cell_type": "code",
   "execution_count": 1,
   "id": "bd47c8e5-091d-441c-8c69-a157d01f3d44",
   "metadata": {},
   "outputs": [],
   "source": [
    "# !pip install -r requirements.txt"
   ]
  },
  {
   "cell_type": "code",
   "execution_count": 2,
   "id": "c06de9be-0833-499e-859f-19c3f351be06",
   "metadata": {},
   "outputs": [],
   "source": [
    "import pandas as pd\n",
    "import numpy as np\n",
    "import yfinance as yf\n",
    "import matplotlib.pyplot as plt\n",
    "import logging\n",
    "import multiprocessing\n",
    "from datetime import datetime, timedelta\n",
    "\n",
    "from src import modules as f\n",
    "%load_ext autoreload\n",
    "%autoreload 2"
   ]
  },
  {
   "cell_type": "code",
   "execution_count": 7,
   "id": "f11530b7-8037-42cf-8d26-e3030b661ebd",
   "metadata": {},
   "outputs": [
    {
     "name": "stdout",
     "output_type": "stream",
     "text": [
      "Stock set: \n",
      "{'MA', 'VZ', 'XEL', 'GS', 'AJG', 'MRK', 'AMZN', '^VIX', 'GOOGL', 'NRG', 'TTWO', 'KO', 'SRE', 'IBM', 'CVX', 'COST', 'WSM', 'WMT', 'CEG', 'DUK', 'D', 'PSX', 'ATO', 'NFLX', 'TMUS', 'SLB', 'RCL', 'UNH', 'FWONK', 'DASH', 'PGR', 'ABT', 'GOOG', 'PG', 'EOG', 'EXC', 'NEE', 'LLY', 'TDG', 'SO', 'ABBV', 'VST', 'MDLZ', 'CMCSA', 'SW', 'BAC', 'ACN', 'WMB', 'XOM', 'BRK-B', 'APH', 'LNG', 'HD', 'DIS', 'ORCL', 'FCNCA', 'PEP', 'MSI', 'AAPL', 'CSCO', 'DECK', 'JNJ', 'T', 'ADBE', 'WELL', 'MO', 'JPM', 'TSLA', 'WFC', 'TMO', 'NVDA', 'CL', 'AVGO', 'EXE', 'PM', 'CRM', 'COP', 'KMI', 'TGT', 'TPR', 'ISRG', 'DKNG', 'AEP', 'META', 'MSFT', 'SPGI', 'AMGN', 'OKE', 'BSX', 'V', 'PLTR', 'AXP'}\n",
      "\n",
      "Saved combined dataframe to: ./data_transformed/all_1d_model_df.pkl\n"
     ]
    },
    {
     "name": "stderr",
     "output_type": "stream",
     "text": [
      "/home/oem/Documents/github/stock_production_agg/stkenv/lib/python3.12/site-packages/xgboost/core.py:158: UserWarning: [23:41:15] WARNING: /workspace/src/learner.cc:740: \n",
      "Parameters: { \"use_label_encoder\" } are not used.\n",
      "\n",
      "  warnings.warn(smsg, UserWarning)\n"
     ]
    },
    {
     "name": "stdout",
     "output_type": "stream",
     "text": [
      "              precision    recall  f1-score   support\n",
      "\n",
      "           0       0.38      0.37      0.38     55460\n",
      "           1       0.41      0.40      0.41     55385\n",
      "           2       0.41      0.43      0.42     55417\n",
      "\n",
      "    accuracy                           0.40    166262\n",
      "   macro avg       0.40      0.40      0.40    166262\n",
      "weighted avg       0.40      0.40      0.40    166262\n",
      "\n",
      "\n",
      "Feature Importances (Descending):\n",
      "                    feature  importance\n",
      "38     cat__day_of_month_23    0.030315\n",
      "19      cat__day_of_month_4    0.026841\n",
      "39     cat__day_of_month_24    0.026312\n",
      "46     cat__day_of_month_31    0.025483\n",
      "42     cat__day_of_month_27    0.025298\n",
      "13    cat__month_of_year_10    0.023737\n",
      "6      cat__month_of_year_3    0.023681\n",
      "33     cat__day_of_month_18    0.022973\n",
      "11     cat__month_of_year_8    0.022892\n",
      "27     cat__day_of_month_12    0.022491\n",
      "15    cat__month_of_year_12    0.022368\n",
      "23      cat__day_of_month_8    0.022214\n",
      "28     cat__day_of_month_13    0.022187\n",
      "25     cat__day_of_month_10    0.022075\n",
      "4      cat__month_of_year_1    0.021781\n",
      "7      cat__month_of_year_4    0.021646\n",
      "10     cat__month_of_year_7    0.021560\n",
      "8      cat__month_of_year_5    0.021363\n",
      "37     cat__day_of_month_22    0.021298\n",
      "21      cat__day_of_month_6    0.021284\n",
      "22      cat__day_of_month_7    0.021272\n",
      "9      cat__month_of_year_6    0.021244\n",
      "14    cat__month_of_year_11    0.021194\n",
      "24      cat__day_of_month_9    0.021037\n",
      "35     cat__day_of_month_20    0.019844\n",
      "41     cat__day_of_month_26    0.019710\n",
      "45     cat__day_of_month_30    0.019229\n",
      "36     cat__day_of_month_21    0.019116\n",
      "32     cat__day_of_month_17    0.018923\n",
      "12     cat__month_of_year_9    0.018770\n",
      "5      cat__month_of_year_2    0.018432\n",
      "34     cat__day_of_month_19    0.018366\n",
      "20      cat__day_of_month_5    0.018334\n",
      "51       cat__day_of_week_4    0.018262\n",
      "49       cat__day_of_week_2    0.018123\n",
      "17      cat__day_of_month_2    0.018035\n",
      "44     cat__day_of_month_29    0.017902\n",
      "47       cat__day_of_week_0    0.017785\n",
      "48       cat__day_of_week_1    0.017548\n",
      "50       cat__day_of_week_3    0.017442\n",
      "26     cat__day_of_month_11    0.015941\n",
      "18      cat__day_of_month_3    0.015817\n",
      "31     cat__day_of_month_16    0.015796\n",
      "40     cat__day_of_month_25    0.015363\n",
      "30     cat__day_of_month_15    0.014911\n",
      "43     cat__day_of_month_28    0.013214\n",
      "0    cat__slow_sma_signal_0    0.012089\n",
      "16      cat__day_of_month_1    0.012073\n",
      "29     cat__day_of_month_14    0.010961\n",
      "2    cat__fast_sma_signal_0    0.010319\n",
      "53  cat__candle_cluster_0.0    0.004722\n",
      "54  cat__candle_cluster_1.0    0.004533\n",
      "55  cat__candle_cluster_2.0    0.004233\n",
      "56  cat__candle_cluster_nan    0.001662\n",
      "1    cat__slow_sma_signal_1    0.000000\n",
      "3    cat__fast_sma_signal_1    0.000000\n",
      "52       cat__hour_of_day_0    0.000000\n",
      "\n",
      "Model saved at: ./models/xgboost_1d_model.pkl\n"
     ]
    }
   ],
   "source": [
    "# Download, load, extract, model...\n",
    "interval = '1d'\n",
    "stock_set = f.download_interval_process(interval, 1)\n",
    "print(f'Stock set: \\n{stock_set}\\n')\n",
    "f.make_table_features_process(stock_set, interval, 8)\n",
    "f.make_master_table(stock_set, interval)\n",
    "f.xg_boost_model(interval)"
   ]
  },
  {
   "cell_type": "code",
   "execution_count": 8,
   "id": "34a1c221-4de9-4792-bb9a-a24337cb849c",
   "metadata": {},
   "outputs": [
    {
     "name": "stdout",
     "output_type": "stream",
     "text": [
      "\n",
      "Model Prediction 1d NVDA:\n",
      "Predicted Next 1d Movement: UP\n",
      "\n",
      "Model Prediction Probabilities:\n",
      "no_change (0): 0.3285\n",
      "up (1): 0.3846\n",
      "down (2): 0.2869\n",
      "\n",
      "Last Entry 1d NVDA Datetime Used for Prediction:\n",
      "NOTE: It's in or contains the full 1d time interval.\n",
      "EST: 2025-01-15 12:00:00 AM EST-0500\n",
      "PDT: 2025-01-14 09:00:00 PM PST-0800\n"
     ]
    }
   ],
   "source": [
    "f.model_prospect('nvda', '1d')"
   ]
  },
  {
   "cell_type": "code",
   "execution_count": null,
   "id": "66ce05cf-2611-4895-87f2-6b08e208dfbe",
   "metadata": {},
   "outputs": [],
   "source": []
  }
 ],
 "metadata": {
  "kernelspec": {
   "display_name": "Python (stkenv)",
   "language": "python",
   "name": "stkenv"
  },
  "language_info": {
   "codemirror_mode": {
    "name": "ipython",
    "version": 3
   },
   "file_extension": ".py",
   "mimetype": "text/x-python",
   "name": "python",
   "nbconvert_exporter": "python",
   "pygments_lexer": "ipython3",
   "version": "3.12.3"
  }
 },
 "nbformat": 4,
 "nbformat_minor": 5
}
