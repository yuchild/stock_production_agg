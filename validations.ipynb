{
 "cells": [
  {
   "cell_type": "code",
   "execution_count": 2,
   "id": "bd47c8e5-091d-441c-8c69-a157d01f3d44",
   "metadata": {},
   "outputs": [],
   "source": [
    "# !pip install -r requirements.txt"
   ]
  },
  {
   "cell_type": "code",
   "execution_count": 3,
   "id": "c06de9be-0833-499e-859f-19c3f351be06",
   "metadata": {},
   "outputs": [],
   "source": [
    "import pandas as pd\n",
    "import numpy as np\n",
    "import yfinance as yf\n",
    "import matplotlib.pyplot as plt\n",
    "import logging\n",
    "import multiprocessing\n",
    "from datetime import datetime, timedelta\n",
    "\n",
    "from src import modules as f\n",
    "%load_ext autoreload\n",
    "%autoreload 2"
   ]
  },
  {
   "cell_type": "code",
   "execution_count": 4,
   "id": "f11530b7-8037-42cf-8d26-e3030b661ebd",
   "metadata": {},
   "outputs": [],
   "source": [
    "# Download, load, extract, model...\n",
    "#\n",
    "# stock_list = f.download_interval_process('1h', 1)\n",
    "# print(f'Stock List: \\n{stock_list}\\n')\n",
    "# stock_list = f.make_table_features_process('1h', 8)\n",
    "# f.make_master_table(stock_list, '1h')\n",
    "# f.xg_boost_model(interval='1h')"
   ]
  },
  {
   "cell_type": "code",
   "execution_count": 33,
   "id": "34a1c221-4de9-4792-bb9a-a24337cb849c",
   "metadata": {},
   "outputs": [
    {
     "name": "stdout",
     "output_type": "stream",
     "text": [
      "\n",
      "Model Prediction 1d AMD:\n",
      "Predicted Next 1d Movement: UP\n",
      "\n",
      "Model Prediction Probabilities:\n",
      "no_change (0): 0.3342\n",
      "up (1): 0.3592\n",
      "down (2): 0.3066\n",
      "\n",
      "Last Entry 1d AMD Datetime Used for Prediction:\n",
      "NOTE: It's in or contains the full 1d time interval.\n",
      "EST: 2025-03-24 12:00:00 AM EDT-0400\n",
      "PDT: 2025-03-23 09:00:00 PM PDT-0700\n"
     ]
    }
   ],
   "source": [
    "f.model_prospect('amd', '1d')"
   ]
  },
  {
   "cell_type": "code",
   "execution_count": null,
   "id": "66ce05cf-2611-4895-87f2-6b08e208dfbe",
   "metadata": {},
   "outputs": [],
   "source": []
  }
 ],
 "metadata": {
  "kernelspec": {
   "display_name": "Python (stkenv)",
   "language": "python",
   "name": "stkenv"
  },
  "language_info": {
   "codemirror_mode": {
    "name": "ipython",
    "version": 3
   },
   "file_extension": ".py",
   "mimetype": "text/x-python",
   "name": "python",
   "nbconvert_exporter": "python",
   "pygments_lexer": "ipython3",
   "version": "3.12.3"
  }
 },
 "nbformat": 4,
 "nbformat_minor": 5
}
